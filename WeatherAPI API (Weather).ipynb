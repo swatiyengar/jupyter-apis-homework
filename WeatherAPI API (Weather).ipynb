{
 "cells": [
  {
   "cell_type": "markdown",
   "metadata": {},
   "source": [
    "# WeatherAPI (Weather)\n",
    "\n",
    "Answer the following questions using [WeatherAPI](http://www.weatherapi.com/). I've added three cells for most questions but you're free to use more or less! Hold `Shift` and hit `Enter` to run a cell, and use the `+` on the top left to add a new cell to a notebook.\n",
    "\n",
    "Be sure to take advantage of both the documentation and the API Explorer!\n",
    "\n",
    "## 0) Import any libraries you might need\n",
    "\n",
    "- *Tip: We're going to be downloading things from the internet, so we probably need `requests`.*\n",
    "- *Tip: Remember you only need to import requests once!*"
   ]
  },
  {
   "cell_type": "code",
   "execution_count": 4,
   "metadata": {},
   "outputs": [],
   "source": [
    "import os\n",
    "from dotenv import load_dotenv\n",
    "load_dotenv()\n",
    "\n",
    "api_key = os.getenv('weather_api')"
   ]
  },
  {
   "cell_type": "code",
   "execution_count": 5,
   "metadata": {},
   "outputs": [],
   "source": [
    "api_key = input(\"What is your WeatherAPI.com API key? Don't have one? Sign-up here: https://www.weatherapi.com/\")\n",
    "api_key = str(api_key)\n",
    "location = input('What city are you interested in?')\n",
    "location = str(location)\n",
    "current_weather_url = f\"https://api.weatherapi.com/v1/current.json?key={api_key}&q={location}&aqi=no\""
   ]
  },
  {
   "cell_type": "code",
   "execution_count": 6,
   "metadata": {},
   "outputs": [],
   "source": [
    "import requests"
   ]
  },
  {
   "cell_type": "code",
   "execution_count": 2,
   "metadata": {},
   "outputs": [],
   "source": []
  },
  {
   "cell_type": "markdown",
   "metadata": {
    "collapsed": true
   },
   "source": [
    "## 1) Make a request to the Weather API for where you were born (or lived, or want to visit!).\n",
    "\n",
    "- *Tip: This sure seems familiar.*"
   ]
  },
  {
   "cell_type": "code",
   "execution_count": 7,
   "metadata": {},
   "outputs": [
    {
     "output_type": "execute_result",
     "data": {
      "text/plain": [
       "{'location': {'name': 'Philadelphia',\n",
       "  'region': 'Pennsylvania',\n",
       "  'country': 'United States of America',\n",
       "  'lat': 39.95,\n",
       "  'lon': -75.16,\n",
       "  'tz_id': 'America/New_York',\n",
       "  'localtime_epoch': 1624394253,\n",
       "  'localtime': '2021-06-22 16:37'},\n",
       " 'current': {'last_updated_epoch': 1624393800,\n",
       "  'last_updated': '2021-06-22 16:30',\n",
       "  'temp_c': 19.4,\n",
       "  'temp_f': 66.9,\n",
       "  'is_day': 1,\n",
       "  'condition': {'text': 'Light rain',\n",
       "   'icon': '//cdn.weatherapi.com/weather/64x64/day/296.png',\n",
       "   'code': 1183},\n",
       "  'wind_mph': 9.4,\n",
       "  'wind_kph': 15.1,\n",
       "  'wind_degree': 10,\n",
       "  'wind_dir': 'N',\n",
       "  'pressure_mb': 1007.0,\n",
       "  'pressure_in': 30.2,\n",
       "  'precip_mm': 4.2,\n",
       "  'precip_in': 0.17,\n",
       "  'humidity': 87,\n",
       "  'cloud': 100,\n",
       "  'feelslike_c': 19.4,\n",
       "  'feelslike_f': 66.9,\n",
       "  'vis_km': 16.0,\n",
       "  'vis_miles': 9.0,\n",
       "  'uv': 4.0,\n",
       "  'gust_mph': 12.3,\n",
       "  'gust_kph': 19.8}}"
      ]
     },
     "metadata": {},
     "execution_count": 7
    }
   ],
   "source": [
    "location_current_weather = requests.get(current_weather_url)\n",
    "location_current_weather = location_current_weather.json()\n",
    "location_current_weather"
   ]
  },
  {
   "source": [
    "## 2) What's the current wind speed, and how much warmer does it feel than it actually is?\n",
    "\n",
    "- *Tip: You can do this by browsing through the dictionaries, but it might be easier to read the documentation*\n",
    "- *Tip: For the second half: it **is** one temperature, and it **feels** a different temperature. Calculate the difference. Same as we did last time!*"
   ],
   "cell_type": "markdown",
   "metadata": {}
  },
  {
   "cell_type": "code",
   "execution_count": 8,
   "metadata": {},
   "outputs": [
    {
     "output_type": "execute_result",
     "data": {
      "text/plain": [
       "'The current wind speed is 9.4 miles per hour.'"
      ]
     },
     "metadata": {},
     "execution_count": 8
    }
   ],
   "source": [
    "current_weather = location_current_weather['current']\n",
    "f\"The current wind speed is {current_weather['wind_mph']} miles per hour.\""
   ]
  },
  {
   "cell_type": "code",
   "execution_count": 9,
   "metadata": {},
   "outputs": [],
   "source": [
    "temp_difference = round(current_weather['feelslike_f'] - current_weather['temp_f'], 1)\n",
    "if current_weather['feelslike_f'] - current_weather['temp_f'] > 0:\n",
    "    f'It feels {abs(temp_difference)} degrees F warmer than it actually is'\n",
    "elif current_weather['feelslike_f'] == current_weather['temp_f']:\n",
    "    f\"It feels like the actual temperature\"\n",
    "else:\n",
    "    f'It feels {abs(temp_difference)} degrees F colder than it actually is'"
   ]
  },
  {
   "cell_type": "markdown",
   "metadata": {},
   "source": [
    "## 3) What is the API endpoint for moon-related information? For the place you decided on above, how much of the moon will be visible on next Thursday?\n",
    "\n",
    "- *Tip: Check the documentation!*\n",
    "- *Tip: If you aren't sure what something means, ask in Slack*"
   ]
  },
  {
   "cell_type": "code",
   "execution_count": 10,
   "metadata": {},
   "outputs": [
    {
     "output_type": "execute_result",
     "data": {
      "text/plain": [
       "{'location': {'name': 'Philadelphia',\n",
       "  'region': 'Pennsylvania',\n",
       "  'country': 'United States of America',\n",
       "  'lat': 39.95,\n",
       "  'lon': -75.16,\n",
       "  'tz_id': 'America/New_York',\n",
       "  'localtime_epoch': 1624394253,\n",
       "  'localtime': '2021-06-22 16:37'},\n",
       " 'astronomy': {'astro': {'sunrise': '05:33 AM',\n",
       "   'sunset': '08:33 PM',\n",
       "   'moonrise': '08:55 PM',\n",
       "   'moonset': '05:06 AM',\n",
       "   'moon_phase': 'Full Moon',\n",
       "   'moon_illumination': '100'}}}"
      ]
     },
     "metadata": {},
     "execution_count": 10
    }
   ],
   "source": [
    "location_moon_url = f\"https://api.weatherapi.com/v1/astronomy.json?key={api_key}&q={location}&dt=2021-06-24\"\n",
    "location_moon = requests.get(location_moon_url)\n",
    "location_moon = location_moon.json()\n",
    "location_moon"
   ]
  },
  {
   "cell_type": "code",
   "execution_count": 11,
   "metadata": {},
   "outputs": [
    {
     "output_type": "execute_result",
     "data": {
      "text/plain": [
       "'The moon will be 100 percent illuminated.'"
      ]
     },
     "metadata": {},
     "execution_count": 11
    }
   ],
   "source": [
    "location_astronomy = location_moon['astronomy']['astro']\n",
    "location_astronomy\n",
    "f\"The moon will be {location_astronomy['moon_illumination']} percent illuminated.\""
   ]
  },
  {
   "cell_type": "markdown",
   "metadata": {},
   "source": [
    "## 4) What's the difference between the high and low temperatures for today?\n",
    "\n",
    "- *Tip: When you requested moon data, you probably overwrote your variables! If so, you'll need to make a new request.*"
   ]
  },
  {
   "cell_type": "code",
   "execution_count": 12,
   "metadata": {},
   "outputs": [],
   "source": [
    "forecast_period = 1\n",
    "forecast_url = f\"https://api.weatherapi.com/v1/forecast.json?key={api_key}&q={location}&days={forecast_period}&aqi=no&alerts=no\"\n",
    "forecast = requests.get(forecast_url)\n",
    "forecast = forecast.json()\n",
    "forecast.keys()\n",
    "forecastday = forecast['forecast']['forecastday']"
   ]
  },
  {
   "cell_type": "code",
   "execution_count": 13,
   "metadata": {},
   "outputs": [
    {
     "output_type": "stream",
     "name": "stdout",
     "text": [
      "The forecast dates are: ['2021-06-22']\n"
     ]
    }
   ],
   "source": [
    "forecast_dates = [days['date'] for days in forecastday]\n",
    "print(f'The forecast dates are: {forecast_dates}')"
   ]
  },
  {
   "cell_type": "code",
   "execution_count": 14,
   "metadata": {},
   "outputs": [
    {
     "output_type": "stream",
     "name": "stdout",
     "text": [
      "The temperature difference between the high and low temperatures on 2021-06-22 is 25.7 degrees F\n"
     ]
    }
   ],
   "source": [
    "for days in forecastday:\n",
    "    date = days['date']\n",
    "    day_max_temp = days['day']['maxtemp_f']\n",
    "    day_min_temp = days['day']['mintemp_f']\n",
    "    print(f\"The temperature difference between the high and low temperatures on {days['date']} is {round(day_max_temp-day_min_temp, 2)} degrees F\")"
   ]
  },
  {
   "cell_type": "markdown",
   "metadata": {
    "collapsed": true
   },
   "source": [
    "## 4.5) How can you avoid the \"oh no I don't have the data any more because I made another request\" problem in the future?\n",
    "\n",
    "What variable(s) do you have to rename, and what would you rename them?"
   ]
  },
  {
   "cell_type": "code",
   "execution_count": 15,
   "metadata": {},
   "outputs": [
    {
     "output_type": "execute_result",
     "data": {
      "text/plain": [
       "\"I didn't have to rename anything, but to avoid overwriting variables, create different variables for different endpoints\""
      ]
     },
     "metadata": {},
     "execution_count": 15
    }
   ],
   "source": [
    "f\"I didn't have to rename anything, but to avoid overwriting variables, create different variables for different endpoints\""
   ]
  },
  {
   "cell_type": "markdown",
   "metadata": {},
   "source": [
    "## 5) Go through the daily forecasts, printing out the next week's worth of predictions.\n",
    "\n",
    "I'd like to know the **high temperature** for each day, and whether it's **hot, warm, or cold** (based on what temperatures you think are hot, warm or cold).\n",
    "\n",
    "- *Tip: You'll need to use an `if` statement to say whether it is hot, warm or cold.*"
   ]
  },
  {
   "cell_type": "code",
   "execution_count": 16,
   "metadata": {},
   "outputs": [],
   "source": [
    "forecast_period = 7\n",
    "forecast_url = f\"https://api.weatherapi.com/v1/forecast.json?key={api_key}&q={location}&days={forecast_period}&aqi=no&alerts=no\"\n",
    "forecast = requests.get(forecast_url)\n",
    "forecast = forecast.json()\n",
    "forecast.keys()\n",
    "forecastday = forecast['forecast']['forecastday']"
   ]
  },
  {
   "cell_type": "code",
   "execution_count": 17,
   "metadata": {},
   "outputs": [
    {
     "output_type": "stream",
     "name": "stdout",
     "text": [
      "On 2021-06-22 the forecast is:\n{'maxtemp_c': 23.0, 'maxtemp_f': 73.4, 'mintemp_c': 8.7, 'mintemp_f': 47.7, 'avgtemp_c': 17.7, 'avgtemp_f': 63.9, 'maxwind_mph': 10.7, 'maxwind_kph': 17.3, 'totalprecip_mm': 11.3, 'totalprecip_in': 0.44, 'avgvis_km': 9.3, 'avgvis_miles': 5.0, 'avghumidity': 90.0, 'daily_will_it_rain': 1, 'daily_chance_of_rain': '96', 'daily_will_it_snow': 0, 'daily_chance_of_snow': '0', 'condition': {'text': 'Moderate rain', 'icon': '//cdn.weatherapi.com/weather/64x64/day/302.png', 'code': 1189}, 'uv': 4.0}\n-\nIt's warm - enjoy nature!\n-------------\nOn 2021-06-23 the forecast is:\n{'maxtemp_c': 25.8, 'maxtemp_f': 78.4, 'mintemp_c': 15.6, 'mintemp_f': 60.1, 'avgtemp_c': 20.8, 'avgtemp_f': 69.5, 'maxwind_mph': 5.6, 'maxwind_kph': 9.0, 'totalprecip_mm': 0.1, 'totalprecip_in': 0.0, 'avgvis_km': 10.0, 'avgvis_miles': 6.0, 'avghumidity': 51.0, 'daily_will_it_rain': 0, 'daily_chance_of_rain': '0', 'daily_will_it_snow': 0, 'daily_chance_of_snow': '0', 'condition': {'text': 'Partly cloudy', 'icon': '//cdn.weatherapi.com/weather/64x64/day/116.png', 'code': 1003}, 'uv': 8.0}\n-\nIt's warm - enjoy nature!\n-------------\nOn 2021-06-24 the forecast is:\n{'maxtemp_c': 27.8, 'maxtemp_f': 82.0, 'mintemp_c': 17.4, 'mintemp_f': 63.3, 'avgtemp_c': 22.4, 'avgtemp_f': 72.2, 'maxwind_mph': 10.3, 'maxwind_kph': 16.6, 'totalprecip_mm': 0.0, 'totalprecip_in': 0.0, 'avgvis_km': 10.0, 'avgvis_miles': 6.0, 'avghumidity': 56.0, 'daily_will_it_rain': 0, 'daily_chance_of_rain': '0', 'daily_will_it_snow': 0, 'daily_chance_of_snow': '0', 'condition': {'text': 'Partly cloudy', 'icon': '//cdn.weatherapi.com/weather/64x64/day/116.png', 'code': 1003}, 'uv': 8.0}\n-\nIt's hot - grab a fan!\n-------------\n"
     ]
    }
   ],
   "source": [
    "for days in forecastday:\n",
    "    print(f\"On {days['date']} the forecast is:\")\n",
    "    print(days['day'])\n",
    "    print(\"-\")\n",
    "    day_max_temp = days['day']['maxtemp_f']\n",
    "    if day_max_temp > 80:\n",
    "        print(f\"It's hot - grab a fan!\")\n",
    "        print(\"-------------\")\n",
    "    elif day_max_temp > 65:\n",
    "        print(f\"It's warm - enjoy nature!\")\n",
    "        print(\"-------------\")\n",
    "    else:\n",
    "        print(f\"Brrr...it's cold in here! (There must be some Clovers in the atmosphere!)\")\n",
    "        print(\"-------------\")"
   ]
  },
  {
   "cell_type": "markdown",
   "metadata": {},
   "source": [
    "# 6) What will be the hottest day in the next week? What is the high temperature on that day?"
   ]
  },
  {
   "cell_type": "code",
   "execution_count": 18,
   "metadata": {},
   "outputs": [],
   "source": [
    "max_temp = -200\n",
    "hottest_day = \"\""
   ]
  },
  {
   "cell_type": "code",
   "execution_count": 19,
   "metadata": {},
   "outputs": [
    {
     "output_type": "stream",
     "name": "stdout",
     "text": [
      "On 2021-06-22 the max temperature is 73.4 degrees F.\nOn 2021-06-23 the max temperature is 78.4 degrees F.\nOn 2021-06-24 the max temperature is 82.0 degrees F.\n2021-06-24 is the hottest day with a max temperature of 82.0 degrees F.\n"
     ]
    }
   ],
   "source": [
    "for days in forecastday:\n",
    "    day_max_temp = days['day']['maxtemp_f']\n",
    "    print(f\"On {days['date']} the max temperature is {day_max_temp} degrees F.\")\n",
    "    if day_max_temp > max_temp:\n",
    "        max_temp = day_max_temp\n",
    "        hottest_day = days['date']\n",
    "print(f\"{hottest_day} is the hottest day with a max temperature of {max_temp} degrees F.\") "
   ]
  },
  {
   "cell_type": "markdown",
   "metadata": {},
   "source": [
    "## 7) What's the weather looking like for the next 24+ hours in Miami, Florida?\n",
    "\n",
    "I'd like to know the temperature for every hour, and if it's going to have cloud cover of more than 50% say \"{temperature} and cloudy\" instead of just the temperature. \n",
    "\n",
    "- *Tip: You'll only need one day of forecast*"
   ]
  },
  {
   "cell_type": "code",
   "execution_count": 20,
   "metadata": {},
   "outputs": [],
   "source": [
    "miami_forecast_url = f\"https://api.weatherapi.com/v1/forecast.json?key={api_key}&q=Miami&days=1&aqi=no&alerts=no\"\n",
    "miami_forecast = requests.get(miami_forecast_url)\n",
    "miami_forecast = miami_forecast.json()\n",
    "miami_forecast.keys()\n",
    "miami_forecastday = miami_forecast['forecast']['forecastday']"
   ]
  },
  {
   "cell_type": "code",
   "execution_count": 21,
   "metadata": {},
   "outputs": [],
   "source": [
    "for hours in miami_forecastday :\n",
    "    hourly_forecast = hours['hour']"
   ]
  },
  {
   "cell_type": "code",
   "execution_count": 22,
   "metadata": {},
   "outputs": [
    {
     "output_type": "stream",
     "name": "stdout",
     "text": [
      "The temperature at 2021-06-22 00:00 is 83.7 degrees F\nThe temperature at 2021-06-22 01:00 is 83.3 degrees F\nThe temperature at 2021-06-22 02:00 is 83.1 degrees F\nThe temperature at 2021-06-22 03:00 is 83.1 degrees F\nThe temperature at 2021-06-22 04:00 is 83.1 degrees F and cloudy\nThe temperature at 2021-06-22 05:00 is 83.1 degrees F and cloudy\nThe temperature at 2021-06-22 06:00 is 83.5 degrees F and cloudy\nThe temperature at 2021-06-22 07:00 is 84.0 degrees F and cloudy\nThe temperature at 2021-06-22 08:00 is 84.4 degrees F and cloudy\nThe temperature at 2021-06-22 09:00 is 84.7 degrees F\nThe temperature at 2021-06-22 10:00 is 85.3 degrees F\nThe temperature at 2021-06-22 11:00 is 85.6 degrees F\nThe temperature at 2021-06-22 12:00 is 86.0 degrees F\nThe temperature at 2021-06-22 13:00 is 86.2 degrees F\nThe temperature at 2021-06-22 14:00 is 86.5 degrees F\nThe temperature at 2021-06-22 15:00 is 86.5 degrees F\nThe temperature at 2021-06-22 16:00 is 86.5 degrees F\nThe temperature at 2021-06-22 17:00 is 86.5 degrees F\nThe temperature at 2021-06-22 18:00 is 86.2 degrees F\nThe temperature at 2021-06-22 19:00 is 85.8 degrees F\nThe temperature at 2021-06-22 20:00 is 85.5 degrees F\nThe temperature at 2021-06-22 21:00 is 85.3 degrees F\nThe temperature at 2021-06-22 22:00 is 85.1 degrees F and cloudy\nThe temperature at 2021-06-22 23:00 is 84.9 degrees F and cloudy\n"
     ]
    }
   ],
   "source": [
    "    for times in hourly_forecast:\n",
    "        if times['cloud'] > 50:\n",
    "            print(f\"The temperature at {times['time']} is {times['temp_f']} degrees F and cloudy\")\n",
    "        else:\n",
    "            print(f\"The temperature at {times['time']} is {times['temp_f']} degrees F\")"
   ]
  },
  {
   "cell_type": "markdown",
   "metadata": {},
   "source": [
    "# 8) For the next 24-ish hours in Miami, what percent of the time is the temperature above 85 degrees?\n",
    "\n",
    "- *Tip: You might want to read up on [looping patterns](http://jonathansoma.com/lede/foundations-2017/classes/data%20structures/looping-patterns/)*"
   ]
  },
  {
   "cell_type": "code",
   "execution_count": 23,
   "metadata": {},
   "outputs": [
    {
     "output_type": "stream",
     "name": "stdout",
     "text": [
      "16\n"
     ]
    }
   ],
   "source": [
    "    total_hours = len(times['time'])\n",
    "    print(total_hours)\n",
    "    count_85plus = 0"
   ]
  },
  {
   "cell_type": "code",
   "execution_count": 24,
   "metadata": {},
   "outputs": [
    {
     "output_type": "stream",
     "name": "stdout",
     "text": [
      "13\nIt is above 85 degrees F 0.8 percent of the time in Miami over the next 24-ish hours\n"
     ]
    }
   ],
   "source": [
    "    for times in hourly_forecast:\n",
    "        if times['temp_f'] > 85:\n",
    "            count_85plus = count_85plus + 1\n",
    "    print(count_85plus)\n",
    "    print(f\"It is above 85 degrees F {round((count_85plus/total_hours),1)} percent of the time in Miami over the next 24-ish hours\")"
   ]
  },
  {
   "cell_type": "markdown",
   "metadata": {},
   "source": [
    "## 9) What was the temperature in Central Park on Christmas Day, 2020? How about 2012? 2007? How far back does the API allow you to go?\n",
    "\n",
    "- *Tip: You'll need to use latitude/longitude. You can ask Google where Central Park is, it knows*\n",
    "- *Tip: Remember when latitude/longitude might use negative numbers*"
   ]
  },
  {
   "cell_type": "code",
   "execution_count": 25,
   "metadata": {},
   "outputs": [
    {
     "output_type": "stream",
     "name": "stdout",
     "text": [
      "Sorry this data is not available in the free version of WeatherAPI\n"
     ]
    },
    {
     "output_type": "execute_result",
     "data": {
      "text/plain": [
       "{'error': {'code': 1008,\n",
       "  'message': 'API key is limited to get history data. Please check our pricing page and upgrade to higher plan.'}}"
      ]
     },
     "metadata": {},
     "execution_count": 25
    }
   ],
   "source": [
    "print(f\"Sorry this data is not available in the free version of WeatherAPI\")\n",
    "xmas2020_url = f\"https://api.weatherapi.com/v1/history.json?key={api_key}&q={location}&dt=2020-12-25\"\n",
    "xmas2020_weather = requests.get(xmas2020_url)\n",
    "xmas2020_weather = xmas2020_weather.json()\n",
    "xmas2020_weather\n"
   ]
  }
 ],
 "metadata": {
  "kernelspec": {
   "name": "python3",
   "display_name": "Python 3.9.5 64-bit"
  },
  "language_info": {
   "codemirror_mode": {
    "name": "ipython",
    "version": 3
   },
   "file_extension": ".py",
   "mimetype": "text/x-python",
   "name": "python",
   "nbconvert_exporter": "python",
   "pygments_lexer": "ipython3",
   "version": "3.9.5"
  },
  "interpreter": {
   "hash": "ef19576ba81a241d3fe40416f7fab88758350e775c5cf205b69256e3a84aa984"
  }
 },
 "nbformat": 4,
 "nbformat_minor": 1
}