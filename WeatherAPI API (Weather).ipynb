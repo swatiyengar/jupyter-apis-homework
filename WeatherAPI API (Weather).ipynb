{
 "cells": [
  {
   "cell_type": "markdown",
   "metadata": {},
   "source": [
    "# WeatherAPI (Weather)\n",
    "\n",
    "Answer the following questions using [WeatherAPI](http://www.weatherapi.com/). I've added three cells for most questions but you're free to use more or less! Hold `Shift` and hit `Enter` to run a cell, and use the `+` on the top left to add a new cell to a notebook.\n",
    "\n",
    "Be sure to take advantage of both the documentation and the API Explorer!\n",
    "\n",
    "## 0) Import any libraries you might need\n",
    "\n",
    "- *Tip: We're going to be downloading things from the internet, so we probably need `requests`.*\n",
    "- *Tip: Remember you only need to import requests once!*"
   ]
  },
  {
   "cell_type": "code",
   "execution_count": 103,
   "metadata": {},
   "outputs": [],
   "source": [
    "api_key = input(\"What is your WeatherAPI.com API key? Don't have one? Sign-up here: https://www.weatherapi.com/\")\n",
    "api_key = str(api_key)\n",
    "location = input('What city are you interested in?')\n",
    "location = str(location)\n",
    "current_weather_url = f\"https://api.weatherapi.com/v1/current.json?key={api_key}&q={location}&aqi=no\""
   ]
  },
  {
   "cell_type": "code",
   "execution_count": 104,
   "metadata": {},
   "outputs": [],
   "source": [
    "import requests"
   ]
  },
  {
   "cell_type": "markdown",
   "metadata": {
    "collapsed": true
   },
   "source": [
    "## 1) Make a request to the Weather API for where you were born (or lived, or want to visit!).\n",
    "\n",
    "- *Tip: This sure seems familiar.*"
   ]
  },
  {
   "cell_type": "code",
   "execution_count": 105,
   "metadata": {},
   "outputs": [
    {
     "output_type": "execute_result",
     "data": {
      "text/plain": [
       "{'location': {'name': 'Miami',\n",
       "  'region': 'Florida',\n",
       "  'country': 'United States of America',\n",
       "  'lat': 25.77,\n",
       "  'lon': -80.19,\n",
       "  'tz_id': 'America/Kentucky/Monticello',\n",
       "  'localtime_epoch': 1624200704,\n",
       "  'localtime': '2021-06-20 10:51'},\n",
       " 'current': {'last_updated_epoch': 1624200300,\n",
       "  'last_updated': '2021-06-20 10:45',\n",
       "  'temp_c': 31.1,\n",
       "  'temp_f': 88.0,\n",
       "  'is_day': 1,\n",
       "  'condition': {'text': 'Partly cloudy',\n",
       "   'icon': '//cdn.weatherapi.com/weather/64x64/day/116.png',\n",
       "   'code': 1003},\n",
       "  'wind_mph': 9.4,\n",
       "  'wind_kph': 15.1,\n",
       "  'wind_degree': 170,\n",
       "  'wind_dir': 'S',\n",
       "  'pressure_mb': 1019.0,\n",
       "  'pressure_in': 30.6,\n",
       "  'precip_mm': 1.4,\n",
       "  'precip_in': 0.06,\n",
       "  'humidity': 73,\n",
       "  'cloud': 75,\n",
       "  'feelslike_c': 40.2,\n",
       "  'feelslike_f': 104.4,\n",
       "  'vis_km': 16.0,\n",
       "  'vis_miles': 9.0,\n",
       "  'uv': 6.0,\n",
       "  'gust_mph': 17.4,\n",
       "  'gust_kph': 28.1}}"
      ]
     },
     "metadata": {},
     "execution_count": 105
    }
   ],
   "source": [
    "location_current_weather = requests.get(current_weather_url)\n",
    "location_current_weather = location_current_weather.json()\n",
    "location_current_weather"
   ]
  },
  {
   "source": [
    "## 2) What's the current wind speed, and how much warmer does it feel than it actually is?\n",
    "\n",
    "- *Tip: You can do this by browsing through the dictionaries, but it might be easier to read the documentation*\n",
    "- *Tip: For the second half: it **is** one temperature, and it **feels** a different temperature. Calculate the difference. Same as we did last time!*"
   ],
   "cell_type": "markdown",
   "metadata": {}
  },
  {
   "cell_type": "code",
   "execution_count": 106,
   "metadata": {},
   "outputs": [
    {
     "output_type": "execute_result",
     "data": {
      "text/plain": [
       "'The current wind speed is 9.4 miles per hour.'"
      ]
     },
     "metadata": {},
     "execution_count": 106
    }
   ],
   "source": [
    "current_weather = location_current_weather['current']\n",
    "f\"The current wind speed is {current_weather['wind_mph']} miles per hour.\""
   ]
  },
  {
   "cell_type": "code",
   "execution_count": 107,
   "metadata": {},
   "outputs": [],
   "source": [
    "temp_difference = round(current_weather['feelslike_f'] - current_weather['temp_f'], 1)\n",
    "if current_weather['feelslike_f'] - current_weather['temp_f'] > 0:\n",
    "    f'It feels {abs(temp_difference)} degrees F warmer than it actually is'\n",
    "elif current_weather['feelslike_f'] == current_weather['temp_f']:\n",
    "    f\"It feels like the actual temperature\"\n",
    "else:\n",
    "    f'It feels {abs(temp_difference)} degrees F colder than it actually is'"
   ]
  },
  {
   "cell_type": "markdown",
   "metadata": {},
   "source": [
    "## 3) What is the API endpoint for moon-related information? For the place you decided on above, how much of the moon will be visible on next Thursday?\n",
    "\n",
    "- *Tip: Check the documentation!*\n",
    "- *Tip: If you aren't sure what something means, ask in Slack*"
   ]
  },
  {
   "cell_type": "code",
   "execution_count": 108,
   "metadata": {},
   "outputs": [
    {
     "output_type": "execute_result",
     "data": {
      "text/plain": [
       "{'location': {'name': 'Miami',\n",
       "  'region': 'Florida',\n",
       "  'country': 'United States of America',\n",
       "  'lat': 25.77,\n",
       "  'lon': -80.19,\n",
       "  'tz_id': 'America/Kentucky/Monticello',\n",
       "  'localtime_epoch': 1624200704,\n",
       "  'localtime': '2021-06-20 10:51'},\n",
       " 'astronomy': {'astro': {'sunrise': '06:31 AM',\n",
       "   'sunset': '08:16 PM',\n",
       "   'moonrise': '08:33 PM',\n",
       "   'moonset': '06:09 AM',\n",
       "   'moon_phase': 'Full Moon',\n",
       "   'moon_illumination': '100'}}}"
      ]
     },
     "metadata": {},
     "execution_count": 108
    }
   ],
   "source": [
    "location_moon_url = f\"https://api.weatherapi.com/v1/astronomy.json?key={api_key}&q={location}&dt=2021-06-24\"\n",
    "location_moon = requests.get(location_moon_url)\n",
    "location_moon = location_moon.json()\n",
    "location_moon"
   ]
  },
  {
   "cell_type": "code",
   "execution_count": 109,
   "metadata": {},
   "outputs": [
    {
     "output_type": "execute_result",
     "data": {
      "text/plain": [
       "'The moon will be 100 percent illuminated.'"
      ]
     },
     "metadata": {},
     "execution_count": 109
    }
   ],
   "source": [
    "location_astronomy = location_moon['astronomy']['astro']\n",
    "location_astronomy\n",
    "f\"The moon will be {location_astronomy['moon_illumination']} percent illuminated.\""
   ]
  },
  {
   "cell_type": "markdown",
   "metadata": {},
   "source": [
    "## 4) What's the difference between the high and low temperatures for today?\n",
    "\n",
    "- *Tip: When you requested moon data, you probably overwrote your variables! If so, you'll need to make a new request.*"
   ]
  },
  {
   "cell_type": "code",
   "execution_count": 110,
   "metadata": {},
   "outputs": [],
   "source": [
    "forecast_period = 1\n",
    "forecast_url = f\"https://api.weatherapi.com/v1/forecast.json?key={api_key}&q={location}&days={forecast_period}&aqi=no&alerts=no\"\n",
    "forecast = requests.get(forecast_url)\n",
    "forecast = forecast.json()\n",
    "forecast.keys()\n",
    "forecastday = forecast['forecast']['forecastday']"
   ]
  },
  {
   "cell_type": "code",
   "execution_count": 111,
   "metadata": {},
   "outputs": [
    {
     "output_type": "stream",
     "name": "stdout",
     "text": [
      "The forecast dates are: ['2021-06-20']\n"
     ]
    }
   ],
   "source": [
    "forecast_dates = [days['date'] for days in forecastday]\n",
    "print(f'The forecast dates are: {forecast_dates}')"
   ]
  },
  {
   "cell_type": "code",
   "execution_count": 112,
   "metadata": {},
   "outputs": [
    {
     "output_type": "stream",
     "name": "stdout",
     "text": [
      "The temperature difference between the high and low temperatures on 2021-06-20 is 4.0 degrees F\n"
     ]
    }
   ],
   "source": [
    "for days in forecastday:\n",
    "    date = days['date']\n",
    "    day_max_temp = days['day']['maxtemp_f']\n",
    "    day_min_temp = days['day']['mintemp_f']\n",
    "    print(f\"The temperature difference between the high and low temperatures on {days['date']} is {round(day_max_temp-day_min_temp, 2)} degrees F\")"
   ]
  },
  {
   "cell_type": "markdown",
   "metadata": {
    "collapsed": true
   },
   "source": [
    "## 4.5) How can you avoid the \"oh no I don't have the data any more because I made another request\" problem in the future?\n",
    "\n",
    "What variable(s) do you have to rename, and what would you rename them?"
   ]
  },
  {
   "cell_type": "code",
   "execution_count": 113,
   "metadata": {},
   "outputs": [
    {
     "output_type": "execute_result",
     "data": {
      "text/plain": [
       "\"I didn't have to rename anything, but to avoid overwriting variables, create different variables for different endpoints\""
      ]
     },
     "metadata": {},
     "execution_count": 113
    }
   ],
   "source": [
    "f\"I didn't have to rename anything, but to avoid overwriting variables, create different variables for different endpoints\""
   ]
  },
  {
   "cell_type": "markdown",
   "metadata": {},
   "source": [
    "## 5) Go through the daily forecasts, printing out the next week's worth of predictions.\n",
    "\n",
    "I'd like to know the **high temperature** for each day, and whether it's **hot, warm, or cold** (based on what temperatures you think are hot, warm or cold).\n",
    "\n",
    "- *Tip: You'll need to use an `if` statement to say whether it is hot, warm or cold.*"
   ]
  },
  {
   "cell_type": "code",
   "execution_count": 114,
   "metadata": {},
   "outputs": [],
   "source": [
    "forecast_period = 7\n",
    "forecast_url = f\"https://api.weatherapi.com/v1/forecast.json?key={api_key}&q={location}&days={forecast_period}&aqi=no&alerts=no\"\n",
    "forecast = requests.get(forecast_url)\n",
    "forecast = forecast.json()\n",
    "forecast.keys()\n",
    "forecastday = forecast['forecast']['forecastday']"
   ]
  },
  {
   "cell_type": "code",
   "execution_count": 115,
   "metadata": {},
   "outputs": [
    {
     "output_type": "stream",
     "name": "stdout",
     "text": [
      "On 2021-06-20 the forecast is:\n{'maxtemp_c': 29.7, 'maxtemp_f': 85.5, 'mintemp_c': 27.5, 'mintemp_f': 81.5, 'avgtemp_c': 28.8, 'avgtemp_f': 83.8, 'maxwind_mph': 13.2, 'maxwind_kph': 21.2, 'totalprecip_mm': 5.5, 'totalprecip_in': 0.22, 'avgvis_km': 9.5, 'avgvis_miles': 5.0, 'avghumidity': 75.0, 'daily_will_it_rain': 1, 'daily_chance_of_rain': '87', 'daily_will_it_snow': 0, 'daily_chance_of_snow': '0', 'condition': {'text': 'Moderate rain', 'icon': '//cdn.weatherapi.com/weather/64x64/day/302.png', 'code': 1189}, 'uv': 9.0}\n-\nIt's hot - grab a fan!\n-------------\nOn 2021-06-21 the forecast is:\n{'maxtemp_c': 29.3, 'maxtemp_f': 84.7, 'mintemp_c': 28.0, 'mintemp_f': 82.4, 'avgtemp_c': 28.7, 'avgtemp_f': 83.6, 'maxwind_mph': 16.6, 'maxwind_kph': 26.6, 'totalprecip_mm': 0.2, 'totalprecip_in': 0.01, 'avgvis_km': 10.0, 'avgvis_miles': 6.0, 'avghumidity': 72.0, 'daily_will_it_rain': 1, 'daily_chance_of_rain': '83', 'daily_will_it_snow': 0, 'daily_chance_of_snow': '0', 'condition': {'text': 'Patchy rain possible', 'icon': '//cdn.weatherapi.com/weather/64x64/day/176.png', 'code': 1063}, 'uv': 11.0}\n-\nIt's hot - grab a fan!\n-------------\nOn 2021-06-22 the forecast is:\n{'maxtemp_c': 29.3, 'maxtemp_f': 84.7, 'mintemp_c': 27.7, 'mintemp_f': 81.9, 'avgtemp_c': 28.6, 'avgtemp_f': 83.4, 'maxwind_mph': 13.9, 'maxwind_kph': 22.3, 'totalprecip_mm': 5.2, 'totalprecip_in': 0.2, 'avgvis_km': 9.4, 'avgvis_miles': 5.0, 'avghumidity': 74.0, 'daily_will_it_rain': 1, 'daily_chance_of_rain': '87', 'daily_will_it_snow': 0, 'daily_chance_of_snow': '0', 'condition': {'text': 'Moderate rain', 'icon': '//cdn.weatherapi.com/weather/64x64/day/302.png', 'code': 1189}, 'uv': 11.0}\n-\nIt's hot - grab a fan!\n-------------\n"
     ]
    }
   ],
   "source": [
    "for days in forecastday:\n",
    "    print(f\"On {days['date']} the forecast is:\")\n",
    "    print(days['day'])\n",
    "    print(\"-\")\n",
    "    day_max_temp = days['day']['maxtemp_f']\n",
    "    if day_max_temp > 80:\n",
    "        print(f\"It's hot - grab a fan!\")\n",
    "        print(\"-------------\")\n",
    "    elif day_max_temp > 65:\n",
    "        print(f\"It's warm - enjoy nature!\")\n",
    "        print(\"-------------\")\n",
    "    else:\n",
    "        print(f\"Brrr...it's cold in here! (There must be some Clovers in the atmosphere!)\")\n",
    "        print(\"-------------\")"
   ]
  },
  {
   "cell_type": "markdown",
   "metadata": {},
   "source": [
    "# 6) What will be the hottest day in the next week? What is the high temperature on that day?"
   ]
  },
  {
   "cell_type": "code",
   "execution_count": 116,
   "metadata": {},
   "outputs": [],
   "source": [
    "max_temp = -200\n",
    "hottest_day = \"\""
   ]
  },
  {
   "cell_type": "code",
   "execution_count": 117,
   "metadata": {},
   "outputs": [
    {
     "output_type": "stream",
     "name": "stdout",
     "text": [
      "On 2021-06-20 the max temperature is 85.5 degrees F.\nOn 2021-06-21 the max temperature is 84.7 degrees F.\nOn 2021-06-22 the max temperature is 84.7 degrees F.\n2021-06-20 is the hottest day with a max temperature of 85.5 degrees F.\n"
     ]
    }
   ],
   "source": [
    "for days in forecastday:\n",
    "    day_max_temp = days['day']['maxtemp_f']\n",
    "    print(f\"On {days['date']} the max temperature is {day_max_temp} degrees F.\")\n",
    "    if day_max_temp > max_temp:\n",
    "        max_temp = day_max_temp\n",
    "        hottest_day = days['date']\n",
    "print(f\"{hottest_day} is the hottest day with a max temperature of {max_temp} degrees F.\") "
   ]
  },
  {
   "cell_type": "markdown",
   "metadata": {},
   "source": [
    "## 7) What's the weather looking like for the next 24+ hours in Miami, Florida?\n",
    "\n",
    "I'd like to know the temperature for every hour, and if it's going to have cloud cover of more than 50% say \"{temperature} and cloudy\" instead of just the temperature. \n",
    "\n",
    "- *Tip: You'll only need one day of forecast*"
   ]
  },
  {
   "cell_type": "code",
   "execution_count": 118,
   "metadata": {},
   "outputs": [],
   "source": [
    "miami_forecast_url = f\"https://api.weatherapi.com/v1/forecast.json?key={api_key}&q=Miami&days=1&aqi=no&alerts=no\"\n",
    "miami_forecast = requests.get(miami_forecast_url)\n",
    "miami_forecast = miami_forecast.json()\n",
    "miami_forecast.keys()\n",
    "miami_forecastday = miami_forecast['forecast']['forecastday']"
   ]
  },
  {
   "cell_type": "code",
   "execution_count": 119,
   "metadata": {},
   "outputs": [],
   "source": [
    "for hours in miami_forecastday :\n",
    "    hourly_forecast = hours['hour']"
   ]
  },
  {
   "cell_type": "code",
   "execution_count": 120,
   "metadata": {},
   "outputs": [
    {
     "output_type": "stream",
     "name": "stdout",
     "text": [
      "The temperature at 2021-06-20 00:00 is 82.9 degrees F and cloudy\nThe temperature at 2021-06-20 01:00 is 82.9 degrees F and cloudy\nThe temperature at 2021-06-20 02:00 is 82.9 degrees F and cloudy\nThe temperature at 2021-06-20 03:00 is 82.4 degrees F and cloudy\nThe temperature at 2021-06-20 04:00 is 82.0 degrees F and cloudy\nThe temperature at 2021-06-20 05:00 is 81.5 degrees F and cloudy\nThe temperature at 2021-06-20 06:00 is 81.9 degrees F and cloudy\nThe temperature at 2021-06-20 07:00 is 82.2 degrees F and cloudy\nThe temperature at 2021-06-20 08:00 is 82.6 degrees F and cloudy\nThe temperature at 2021-06-20 09:00 is 83.1 degrees F and cloudy\nThe temperature at 2021-06-20 10:00 is 83.8 degrees F and cloudy\nThe temperature at 2021-06-20 11:00 is 84.4 degrees F and cloudy\nThe temperature at 2021-06-20 12:00 is 84.7 degrees F and cloudy\nThe temperature at 2021-06-20 13:00 is 85.1 degrees F and cloudy\nThe temperature at 2021-06-20 14:00 is 85.5 degrees F and cloudy\nThe temperature at 2021-06-20 15:00 is 85.5 degrees F and cloudy\nThe temperature at 2021-06-20 16:00 is 85.5 degrees F and cloudy\nThe temperature at 2021-06-20 17:00 is 85.5 degrees F and cloudy\nThe temperature at 2021-06-20 18:00 is 85.1 degrees F and cloudy\nThe temperature at 2021-06-20 19:00 is 84.7 degrees F and cloudy\nThe temperature at 2021-06-20 20:00 is 84.4 degrees F and cloudy\nThe temperature at 2021-06-20 21:00 is 84.0 degrees F and cloudy\nThe temperature at 2021-06-20 22:00 is 83.8 degrees F\nThe temperature at 2021-06-20 23:00 is 83.5 degrees F\n"
     ]
    }
   ],
   "source": [
    "    for times in hourly_forecast:\n",
    "        if times['cloud'] > 50:\n",
    "            print(f\"The temperature at {times['time']} is {times['temp_f']} degrees F and cloudy\")\n",
    "        else:\n",
    "            print(f\"The temperature at {times['time']} is {times['temp_f']} degrees F\")"
   ]
  },
  {
   "cell_type": "markdown",
   "metadata": {},
   "source": [
    "# 8) For the next 24-ish hours in Miami, what percent of the time is the temperature above 85 degrees?\n",
    "\n",
    "- *Tip: You might want to read up on [looping patterns](http://jonathansoma.com/lede/foundations-2017/classes/data%20structures/looping-patterns/)*"
   ]
  },
  {
   "cell_type": "code",
   "execution_count": 121,
   "metadata": {},
   "outputs": [
    {
     "output_type": "stream",
     "name": "stdout",
     "text": [
      "16\n"
     ]
    }
   ],
   "source": [
    "    total_hours = len(times['time'])\n",
    "    print(total_hours)\n",
    "    count_85plus = 0"
   ]
  },
  {
   "cell_type": "code",
   "execution_count": 122,
   "metadata": {},
   "outputs": [
    {
     "output_type": "stream",
     "name": "stdout",
     "text": [
      "6\nIt is above 85 degrees F 0.4 percent of the time in Miami over the next 24-ish hours\n"
     ]
    }
   ],
   "source": [
    "    for times in hourly_forecast:\n",
    "        if times['temp_f'] > 85:\n",
    "            count_85plus = count_85plus + 1\n",
    "    print(count_85plus)\n",
    "    print(f\"It is above 85 degrees F {round((count_85plus/total_hours),1)} percent of the time in Miami over the next 24-ish hours\")"
   ]
  },
  {
   "cell_type": "markdown",
   "metadata": {},
   "source": [
    "## 9) What was the temperature in Central Park on Christmas Day, 2020? How about 2012? 2007? How far back does the API allow you to go?\n",
    "\n",
    "- *Tip: You'll need to use latitude/longitude. You can ask Google where Central Park is, it knows*\n",
    "- *Tip: Remember when latitude/longitude might use negative numbers*"
   ]
  },
  {
   "cell_type": "code",
   "execution_count": 123,
   "metadata": {},
   "outputs": [
    {
     "output_type": "stream",
     "name": "stdout",
     "text": [
      "Sorry this data is not available in the free version of WeatherAPI\n"
     ]
    },
    {
     "output_type": "execute_result",
     "data": {
      "text/plain": [
       "{'error': {'code': 1008,\n",
       "  'message': 'API key is limited to get history data. Please check our pricing page and upgrade to higher plan.'}}"
      ]
     },
     "metadata": {},
     "execution_count": 123
    }
   ],
   "source": [
    "print(f\"Sorry this data is not available in the free version of WeatherAPI\")\n",
    "xmas2020_url = f\"https://api.weatherapi.com/v1/history.json?key={api_key}&q={location}&dt=2020-12-25\"\n",
    "xmas2020_weather = requests.get(xmas2020_url)\n",
    "xmas2020_weather = xmas2020_weather.json()\n",
    "xmas2020_weather\n"
   ]
  }
 ],
 "metadata": {
  "kernelspec": {
   "name": "python3",
   "display_name": "Python 3.9.5 64-bit"
  },
  "language_info": {
   "codemirror_mode": {
    "name": "ipython",
    "version": 3
   },
   "file_extension": ".py",
   "mimetype": "text/x-python",
   "name": "python",
   "nbconvert_exporter": "python",
   "pygments_lexer": "ipython3",
   "version": "3.9.5"
  },
  "interpreter": {
   "hash": "ef19576ba81a241d3fe40416f7fab88758350e775c5cf205b69256e3a84aa984"
  }
 },
 "nbformat": 4,
 "nbformat_minor": 1
}