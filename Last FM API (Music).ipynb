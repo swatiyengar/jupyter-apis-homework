{
 "cells": [
  {
   "cell_type": "markdown",
   "metadata": {},
   "source": [
    "# Last FM API (Music)\n",
    "\n",
    "Spotify's API is dead to us, so we're using Last.fm's - it's still music, just not as nice of an API.\n",
    "\n",
    "1. Create an account at https://www.last.fm/api/\n",
    "2. Create an \"application\" to get a key: https://www.last.fm/api/account/create\n",
    "    - It isn't a real application, it's just your project\n",
    "    - Name/description doesn't matter, ignore callback key and callback url\n",
    "3. And save the API key that shows up on the next screen\n",
    "\n",
    "You can find documentation at https://www.last.fm/api/\n",
    "\n",
    "The domain for the API is `http://ws.audioscrobbler.com`, so all of your endpoints will be connected to that. To test your API key, check the following URL in your browser: `http://ws.audioscrobbler.com/2.0/?method=artist.search&artist=cher&api_key=XXXXXXXXXXXXXXXXXXXX&format=json` (change the `XXXXXX` to be your API key, of course!).\n",
    "\n",
    "> Last.fm used to be called **AudioScrobbler**, which is why its URLs don't have \"last.fm\" in them.\n",
    "> While we're asking about URLs, notice that the API endpoints have a lot of `?` and `&` in them - these are key/value pairs, kind of like dictionaries, but for URLs instead of Python."
   ]
  },
  {
   "cell_type": "markdown",
   "metadata": {},
   "source": [
    "# FIRST: SETUP"
   ]
  },
  {
   "cell_type": "markdown",
   "metadata": {},
   "source": [
    "## 1) Import the libraries/packages you might need\n",
    "\n",
    "We need a library to read in the data for us! We don't like `urllib2`, so it must be something cooler and better."
   ]
  },
  {
   "source": [
    "# Import what you need here\n",
    "import requests"
   ],
   "cell_type": "code",
   "metadata": {},
   "execution_count": 2,
   "outputs": []
  },
  {
   "cell_type": "markdown",
   "metadata": {},
   "source": [
    "## 2) Save your API key\n",
    "\n",
    "Write your API key here so you don't forget it - it's the \"api key\" one, not the \"shared secret\" one"
   ]
  },
  {
   "cell_type": "code",
   "execution_count": 3,
   "metadata": {},
   "outputs": [],
   "source": [
    "api_key = input(\"What is your Last.fm API key? Don't have one? Sign-up here: https://www.last.fm/api/account/create\")\n",
    "api_key = str(api_key)"
   ]
  },
  {
   "cell_type": "markdown",
   "metadata": {},
   "source": [
    "## 3) The death of an API\n",
    "\n",
    "I used to have some code here that allowed you to display images, but _the images don't work any more._ Let this be an important lesson: when you depend on external services, they can die at any time."
   ]
  },
  {
   "cell_type": "markdown",
   "metadata": {},
   "source": [
    "# NOW: YOUR ASSIGNMENT"
   ]
  },
  {
   "cell_type": "markdown",
   "metadata": {},
   "source": [
    "## 1) Search for and print a list of 50 musicians with `lil` in their name, along with the number of listeners they have\n",
    "\n",
    "There are a lot of musicians with \"Lil\" in their name - it used to be all Lil Wayne and Lil Kim, but we live in a new world now!\n",
    "\n",
    "- *Tip: Remember, the domain for the API is `http://ws.audioscrobbler.com`*\n",
    "- *Tip: Make sure you ask the API for 50 musicians! This involves adding another parameter to the URL - notice they all have a `&` before them. [Read the documentation](http://www.last.fm/api/show/artist.search) to find the parameter's name.* \n",
    "- *Tip: When you are looking at any piece of data - is it a dictionary? Look at the keys! Is it a list? Look at the first element!*\n",
    "- *Tip: LOOK AT THE KEYS. and then the other keys and the other keys and the other keys. It's an ugly series of dictionaries!*"
   ]
  },
  {
   "cell_type": "code",
   "execution_count": 4,
   "metadata": {},
   "outputs": [
    {
     "output_type": "execute_result",
     "data": {
      "text/plain": [
       "'http://ws.audioscrobbler.com/2.0/?method=artist.search&artist=lil&api_key=16f79a62e3d07d1c0b8cd0ddc4aa611e&format=json&limit=50'"
      ]
     },
     "metadata": {},
     "execution_count": 4
    }
   ],
   "source": [
    "artist = \"lil\"\n",
    "limit = 50\n",
    "lil_lastfm_url = f\"http://ws.audioscrobbler.com/2.0/?method=artist.search&artist={artist}&api_key={api_key}&format=json&limit={limit}\"\n",
    "lil_lastfm_url"
   ]
  },
  {
   "cell_type": "code",
   "execution_count": 5,
   "metadata": {},
   "outputs": [],
   "source": [
    "lil_artistsres = requests.get(lil_lastfm_url)\n",
    "lil_artistsres = lil_artistsres.json()"
   ]
  },
  {
   "cell_type": "code",
   "execution_count": 6,
   "metadata": {},
   "outputs": [
    {
     "output_type": "execute_result",
     "data": {
      "text/plain": [
       "dict_keys(['results'])"
      ]
     },
     "metadata": {},
     "execution_count": 6
    }
   ],
   "source": [
    "lil_artistsres.keys()"
   ]
  },
  {
   "cell_type": "code",
   "execution_count": 7,
   "metadata": {
    "tags": []
   },
   "outputs": [
    {
     "output_type": "stream",
     "name": "stdout",
     "text": [
      "LIL UZI VERT has 696731 listeners\nLIL PEEP has 540426 listeners\nLil' Wayne has 3374382 listeners\nLily Allen has 2370387 listeners\nLil Nas X has 836680 listeners\nLil Baby has 410102 listeners\nLil Yachty has 404517 listeners\nlil skies has 269356 listeners\nLil Tecca has 324462 listeners\nlil tjay has 246951 listeners\nLil Wayne has 377047 listeners\nlil Mosey has 336644 listeners\nLil Durk has 224754 listeners\nLil Ugly Mane has 126685 listeners\nLil B has 263208 listeners\nLIL PUMP has 326414 listeners\nLil Darkie has 93723 listeners\nLil Dicky has 319354 listeners\nLIL TRACY has 99274 listeners\nLil' Kim has 530471 listeners\nLilly Wood & The Prick has 432440 listeners\nLil Keed has 121800 listeners\nLil Xan has 193644 listeners\nLil Jon has 639720 listeners\nLil Jon & The East Side Boyz has 540459 listeners\nLila Downs has 179213 listeners\nLil Boosie has 420924 listeners\nLilac has 143405 listeners\nThe Tiger Lillies has 118495 listeners\nLilypichu has 37126 listeners\nLil Loaded has 54072 listeners\nLil' Kleine has 68833 listeners\nFenne Lily has 177173 listeners\nLil Aaron has 78857 listeners\nLIL GNAR has 78963 listeners\nLily James has 85417 listeners\nLil Gotit has 47225 listeners\nLil Wyte has 267469 listeners\nLil' Flip has 349118 listeners\nLIL BO WEEP has 48573 listeners\nSpangle call Lilli line has 51302 listeners\nMashrou' Leila has 42089 listeners\nBirdman & Lil' Wayne has 587060 listeners\nLily & Madeleine has 141621 listeners\nLilys has 75962 listeners\nThe Lillingtons has 50710 listeners\nLillasyster has 58243 listeners\nlil happy lil sad has 37748 listeners\nLil Eazzyy has 60777 listeners\nLil Revive has 16174 listeners\n"
     ]
    }
   ],
   "source": [
    "lil_results = lil_artistsres['results']\n",
    "lil_results.keys()\n",
    "lil_artistmatches = lil_results['artistmatches']\n",
    "lil_artistmatches.keys()\n",
    "lil_artists = lil_artistmatches['artist']\n",
    "for artists in lil_artists:\n",
    "    print(f\"{artists['name']} has {artists['listeners']} listeners\")\n"
   ]
  },
  {
   "cell_type": "markdown",
   "metadata": {},
   "source": [
    "Your results should begin something like this:\n",
    "    \n",
    "```\n",
    "Lil' Wayne has 3086628 listeners\n",
    "Lily Allen has 2074266 listeners\n",
    "Lil B has 194116 listeners\n",
    "Lilly Wood & The Prick has 359886 listeners\n",
    "Lil Ugly Mane has 31955 listeners\n",
    "LIL UZI VERT has 88517 listeners\n",
    "```\n",
    "\n",
    "Your numbers will be different, though!"
   ]
  },
  {
   "cell_type": "markdown",
   "metadata": {},
   "source": [
    "## 2) How many listeners does your list have in total?\n",
    "\n",
    "The answer should be roughly **17,000,000**. If it's lower, make sure you have 50 artists instead of 30 artists.\n",
    "\n",
    "- *Tip: What's the data type of the `listeners` count? It's going to cause a problem!*\n",
    "- *Tip: If you were crazy you could use sum and a list comprehension. But you really don't have to!*"
   ]
  },
  {
   "cell_type": "code",
   "execution_count": 8,
   "metadata": {},
   "outputs": [],
   "source": [
    "lil_listeners_total = 0\n",
    "for artists in lil_artists:\n",
    "   lil_listeners = int(artists['listeners'])\n",
    "   lil_listeners_total = lil_listeners_total + lil_listeners"
   ]
  },
  {
   "cell_type": "code",
   "execution_count": 9,
   "metadata": {},
   "outputs": [
    {
     "output_type": "stream",
     "name": "stdout",
     "text": [
      "Lil artists have 17,392,354 listeners total\n"
     ]
    }
   ],
   "source": [
    "    lil_listeners_total = lil_listeners_total + lil_listeners\n",
    "    print(f'Lil artists have {lil_listeners_total:,} listeners total')"
   ]
  },
  {
   "cell_type": "markdown",
   "metadata": {},
   "source": [
    "## 3) Show each artist's name and the URL to the extra-large image\n",
    "\n",
    "The images don't work any more, but we'll print their URLs out anyway."
   ]
  },
  {
   "cell_type": "markdown",
   "metadata": {},
   "source": [
    "Each artist **has a list of images of different sizes**. We're interested in the second-to-last one, where `size` is `extralarge`. Print their name and use `display_image` to display their extra-large image.\n",
    "\n",
    "- *Tip: The URL should look like this: `https://lastfm-img2.akamaized.net/i/u/300x300/0fc7d7a1812dc79e9925d80382cde594.png`*\n",
    "- *Tip: You can always assume it's the second to the last, or assume it's `extralarge`, or whatever you want to do to find it.*\n",
    "- *Tip: Make sure the URL is correct before you try to display it.*\n",
    "\n",
    "Your output should look something like\n",
    "\n",
    "```\n",
    "Lil' Wayne\n",
    "https://lastfm.freetls.fastly.net/i/u/300x300/2a96cbd8b46e442fc41c2b86b821562f.png\n",
    "---\n",
    "LIL UZI VERT\n",
    "https://lastfm.freetls.fastly.net/i/u/300x300/2a96cbd8b46e442fc41c2b86b821562f.png\n",
    "---\n",
    "Lily Allen\n",
    "https://lastfm.freetls.fastly.net/i/u/300x300/2a96cbd8b46e442fc41c2b86b821562f.png\n",
    "---\n",
    "```\n",
    "\n",
    "(but with more people, obviously)"
   ]
  },
  {
   "cell_type": "code",
   "execution_count": 10,
   "metadata": {
    "tags": []
   },
   "outputs": [
    {
     "output_type": "stream",
     "name": "stdout",
     "text": [
      "LIL UZI VERT\nhttps://lastfm.freetls.fastly.net/i/u/300x300/2a96cbd8b46e442fc41c2b86b821562f.png\n---\nLIL PEEP\nhttps://lastfm.freetls.fastly.net/i/u/300x300/2a96cbd8b46e442fc41c2b86b821562f.png\n---\nLil' Wayne\nhttps://lastfm.freetls.fastly.net/i/u/300x300/2a96cbd8b46e442fc41c2b86b821562f.png\n---\nLily Allen\nhttps://lastfm.freetls.fastly.net/i/u/300x300/2a96cbd8b46e442fc41c2b86b821562f.png\n---\nLil Nas X\nhttps://lastfm.freetls.fastly.net/i/u/300x300/2a96cbd8b46e442fc41c2b86b821562f.png\n---\nLil Baby\nhttps://lastfm.freetls.fastly.net/i/u/300x300/2a96cbd8b46e442fc41c2b86b821562f.png\n---\nLil Yachty\nhttps://lastfm.freetls.fastly.net/i/u/300x300/2a96cbd8b46e442fc41c2b86b821562f.png\n---\nlil skies\nhttps://lastfm.freetls.fastly.net/i/u/300x300/2a96cbd8b46e442fc41c2b86b821562f.png\n---\nLil Tecca\nhttps://lastfm.freetls.fastly.net/i/u/300x300/2a96cbd8b46e442fc41c2b86b821562f.png\n---\nlil tjay\nhttps://lastfm.freetls.fastly.net/i/u/300x300/2a96cbd8b46e442fc41c2b86b821562f.png\n---\nLil Wayne\nhttps://lastfm.freetls.fastly.net/i/u/300x300/2a96cbd8b46e442fc41c2b86b821562f.png\n---\nlil Mosey\nhttps://lastfm.freetls.fastly.net/i/u/300x300/2a96cbd8b46e442fc41c2b86b821562f.png\n---\nLil Durk\nhttps://lastfm.freetls.fastly.net/i/u/300x300/2a96cbd8b46e442fc41c2b86b821562f.png\n---\nLil Ugly Mane\nhttps://lastfm.freetls.fastly.net/i/u/300x300/2a96cbd8b46e442fc41c2b86b821562f.png\n---\nLil B\nhttps://lastfm.freetls.fastly.net/i/u/300x300/2a96cbd8b46e442fc41c2b86b821562f.png\n---\nLIL PUMP\nhttps://lastfm.freetls.fastly.net/i/u/300x300/2a96cbd8b46e442fc41c2b86b821562f.png\n---\nLil Darkie\nhttps://lastfm.freetls.fastly.net/i/u/300x300/2a96cbd8b46e442fc41c2b86b821562f.png\n---\nLil Dicky\nhttps://lastfm.freetls.fastly.net/i/u/300x300/2a96cbd8b46e442fc41c2b86b821562f.png\n---\nLIL TRACY\nhttps://lastfm.freetls.fastly.net/i/u/300x300/2a96cbd8b46e442fc41c2b86b821562f.png\n---\nLil' Kim\nhttps://lastfm.freetls.fastly.net/i/u/300x300/2a96cbd8b46e442fc41c2b86b821562f.png\n---\nLilly Wood & The Prick\nhttps://lastfm.freetls.fastly.net/i/u/300x300/2a96cbd8b46e442fc41c2b86b821562f.png\n---\nLil Keed\nhttps://lastfm.freetls.fastly.net/i/u/300x300/2a96cbd8b46e442fc41c2b86b821562f.png\n---\nLil Xan\nhttps://lastfm.freetls.fastly.net/i/u/300x300/2a96cbd8b46e442fc41c2b86b821562f.png\n---\nLil Jon\nhttps://lastfm.freetls.fastly.net/i/u/300x300/2a96cbd8b46e442fc41c2b86b821562f.png\n---\nLil Jon & The East Side Boyz\nhttps://lastfm.freetls.fastly.net/i/u/300x300/2a96cbd8b46e442fc41c2b86b821562f.png\n---\nLila Downs\nhttps://lastfm.freetls.fastly.net/i/u/300x300/2a96cbd8b46e442fc41c2b86b821562f.png\n---\nLil Boosie\nhttps://lastfm.freetls.fastly.net/i/u/300x300/2a96cbd8b46e442fc41c2b86b821562f.png\n---\nLilac\nhttps://lastfm.freetls.fastly.net/i/u/300x300/2a96cbd8b46e442fc41c2b86b821562f.png\n---\nThe Tiger Lillies\nhttps://lastfm.freetls.fastly.net/i/u/300x300/2a96cbd8b46e442fc41c2b86b821562f.png\n---\nLilypichu\nhttps://lastfm.freetls.fastly.net/i/u/300x300/2a96cbd8b46e442fc41c2b86b821562f.png\n---\nLil Loaded\nhttps://lastfm.freetls.fastly.net/i/u/300x300/2a96cbd8b46e442fc41c2b86b821562f.png\n---\nLil' Kleine\nhttps://lastfm.freetls.fastly.net/i/u/300x300/2a96cbd8b46e442fc41c2b86b821562f.png\n---\nFenne Lily\nhttps://lastfm.freetls.fastly.net/i/u/300x300/2a96cbd8b46e442fc41c2b86b821562f.png\n---\nLil Aaron\nhttps://lastfm.freetls.fastly.net/i/u/300x300/2a96cbd8b46e442fc41c2b86b821562f.png\n---\nLIL GNAR\nhttps://lastfm.freetls.fastly.net/i/u/300x300/2a96cbd8b46e442fc41c2b86b821562f.png\n---\nLily James\nhttps://lastfm.freetls.fastly.net/i/u/300x300/2a96cbd8b46e442fc41c2b86b821562f.png\n---\nLil Gotit\nhttps://lastfm.freetls.fastly.net/i/u/300x300/2a96cbd8b46e442fc41c2b86b821562f.png\n---\nLil Wyte\nhttps://lastfm.freetls.fastly.net/i/u/300x300/2a96cbd8b46e442fc41c2b86b821562f.png\n---\nLil' Flip\nhttps://lastfm.freetls.fastly.net/i/u/300x300/2a96cbd8b46e442fc41c2b86b821562f.png\n---\nLIL BO WEEP\nhttps://lastfm.freetls.fastly.net/i/u/300x300/2a96cbd8b46e442fc41c2b86b821562f.png\n---\nSpangle call Lilli line\nhttps://lastfm.freetls.fastly.net/i/u/300x300/2a96cbd8b46e442fc41c2b86b821562f.png\n---\nMashrou' Leila\nhttps://lastfm.freetls.fastly.net/i/u/300x300/2a96cbd8b46e442fc41c2b86b821562f.png\n---\nBirdman & Lil' Wayne\nhttps://lastfm.freetls.fastly.net/i/u/300x300/2a96cbd8b46e442fc41c2b86b821562f.png\n---\nLily & Madeleine\nhttps://lastfm.freetls.fastly.net/i/u/300x300/2a96cbd8b46e442fc41c2b86b821562f.png\n---\nLilys\nhttps://lastfm.freetls.fastly.net/i/u/300x300/2a96cbd8b46e442fc41c2b86b821562f.png\n---\nThe Lillingtons\nhttps://lastfm.freetls.fastly.net/i/u/300x300/2a96cbd8b46e442fc41c2b86b821562f.png\n---\nLillasyster\nhttps://lastfm.freetls.fastly.net/i/u/300x300/2a96cbd8b46e442fc41c2b86b821562f.png\n---\nlil happy lil sad\nhttps://lastfm.freetls.fastly.net/i/u/300x300/2a96cbd8b46e442fc41c2b86b821562f.png\n---\nLil Eazzyy\nhttps://lastfm.freetls.fastly.net/i/u/300x300/2a96cbd8b46e442fc41c2b86b821562f.png\n---\nLil Revive\nhttps://lastfm.freetls.fastly.net/i/u/300x300/2a96cbd8b46e442fc41c2b86b821562f.png\n---\n"
     ]
    }
   ],
   "source": [
    "for artists in lil_artists:\n",
    "    lil_image = artists['image']\n",
    "\n",
    "    for image in lil_image:\n",
    "        if image['size'] == 'extralarge':\n",
    "            print(artists['name'])\n",
    "            print(image['#text'])\n",
    "            print(\"---\")"
   ]
  },
  {
   "cell_type": "markdown",
   "metadata": {},
   "source": [
    "## 4) Find Lil Jon's `mbid` (or anyone else's!).\n",
    "\n",
    "Oftentimes in an API, you can do a few things: you can **search** for items, and you can **see more information** about items. To find more information about the item, you need to use their **unique id**. In this dataset, it's called an `mbid` (MusicBrainz, I think - another company associated with last.fm!).\n",
    "\n",
    "Go through the artists and print their **name and mbid**. Find Lil Jon's `mbid`. I *wanted* Lil Uzi Vert's, but for some reason it isn't there. Then I wanted us to look at Lily Allen's, but I just couldn't bring myself to do that. If you'd rather do someone else, go for it."
   ]
  },
  {
   "cell_type": "code",
   "execution_count": 11,
   "metadata": {},
   "outputs": [
    {
     "output_type": "stream",
     "name": "stdout",
     "text": [
      "Lil Jon's mbid is a95384b1-6aec-468c-ae0d-8c6daf87c4c2\n"
     ]
    }
   ],
   "source": [
    "for artists in lil_artists:\n",
    "    if artists['name'] == 'Lil Jon':\n",
    "        print(f\"{artists['name']}'s mbid is {artists['mbid']}\")\n",
    "        mbid = f\"{artists['mbid']}\""
   ]
  },
  {
   "cell_type": "markdown",
   "metadata": {
    "collapsed": true
   },
   "source": [
    "## 5) Find the artist's name and bio using their `mbid`.\n",
    "\n",
    "It can either be Lil Jon or whoever you selected above.\n",
    "\n",
    "If you look at the [last.fm documentation](http://www.last.fm/api/show/artist.getInfo), you can see how to use the artist's `mbid` to find more information about them. Print **every tag associated with your artist**.\n",
    "\n",
    "- *Tip: It's a new request to the API*\n",
    "- *Tip: Use the `mbid`, and make sure you delete the `&name=Cher` from the sample endpoint*\n",
    "- *Tip: If you use `print` for the bio it looks a little nicer than it would otherwise*"
   ]
  },
  {
   "cell_type": "code",
   "execution_count": 12,
   "metadata": {},
   "outputs": [
    {
     "output_type": "stream",
     "name": "stdout",
     "text": [
      "http://ws.audioscrobbler.com/2.0/?method=artist.getinfo&artist=&api_key=16f79a62e3d07d1c0b8cd0ddc4aa611e&format=json&mbid=a95384b1-6aec-468c-ae0d-8c6daf87c4c2\n"
     ]
    }
   ],
   "source": [
    "mbid = str(mbid)\n",
    "brainz_url = f\"http://ws.audioscrobbler.com/2.0/?method=artist.getinfo&artist=&api_key={api_key}&format=json&mbid={mbid}\"\n",
    "print(brainz_url)"
   ]
  },
  {
   "cell_type": "code",
   "execution_count": 13,
   "metadata": {},
   "outputs": [
    {
     "output_type": "execute_result",
     "data": {
      "text/plain": [
       "<Response [200]>"
      ]
     },
     "metadata": {},
     "execution_count": 13
    }
   ],
   "source": [
    "mbid_results = requests.get(brainz_url)\n",
    "mbid_results"
   ]
  },
  {
   "cell_type": "code",
   "execution_count": 14,
   "metadata": {},
   "outputs": [
    {
     "output_type": "execute_result",
     "data": {
      "text/plain": [
       "dict_keys(['artist'])"
      ]
     },
     "metadata": {},
     "execution_count": 14
    }
   ],
   "source": [
    "mbid_results = mbid_results.json()\n",
    "mbid_results.keys()"
   ]
  },
  {
   "cell_type": "code",
   "execution_count": 15,
   "metadata": {},
   "outputs": [
    {
     "output_type": "execute_result",
     "data": {
      "text/plain": [
       "dict_keys(['name', 'mbid', 'url', 'image', 'streamable', 'ontour', 'stats', 'similar', 'tags', 'bio'])"
      ]
     },
     "metadata": {},
     "execution_count": 15
    }
   ],
   "source": [
    "mbid_artist = mbid_results['artist']\n",
    "mbid_artist.keys()"
   ]
  },
  {
   "cell_type": "code",
   "execution_count": 16,
   "metadata": {},
   "outputs": [
    {
     "output_type": "stream",
     "name": "stdout",
     "text": [
      "Artist Name: Lil Jon\nBio: Jonathan Mortimer Smith (born January 27, 1971 in Atlanta, Georgia), better known by his stage name Lil Jon, is an American rapper, actor, producer and member of the crunk group Lil Jon & The East Side Boyz. Lil Jon formed the group with friends Big Sam and Lil Bo, and they released five studio albums and have had many hit songs. He's prehaps best known for his iconic single \"Get Low\", which featured the Ying Yang Twins and reached #2 on the Billboard 100. He released his debut solo album, 'Crunk Rock', in June 2010. <a href=\"https://www.last.fm/music/Lil+Jon\">Read more on Last.fm</a>\n"
     ]
    }
   ],
   "source": [
    "print(f\"Artist Name: {mbid_artist['name']}\")\n",
    "print(f\"Bio: {mbid_artist['bio']['summary']}\")"
   ]
  },
  {
   "cell_type": "markdown",
   "metadata": {
    "collapsed": true
   },
   "source": [
    "## 6) Print every tag of that artist"
   ]
  },
  {
   "cell_type": "code",
   "execution_count": 17,
   "metadata": {},
   "outputs": [
    {
     "output_type": "stream",
     "name": "stdout",
     "text": [
      "Artist Name: Lil Jon\nTags: Crunk\nTags: Hip-Hop\nTags: rap\nTags: Dirty South\nTags: hip hop\n"
     ]
    }
   ],
   "source": [
    "print(f\"Artist Name: {mbid_artist['name']}\")\n",
    "tags = mbid_artist['tags']['tag']\n",
    "for tag in tags:\n",
    "    print(f\"Tags: {tag['name']}\")"
   ]
  },
  {
   "cell_type": "markdown",
   "metadata": {},
   "source": [
    "# GETTING A LITTLE CRAZY\n",
    "\n",
    "So you know your original list of musicians? I want to get tag data for ALL OF THEM. How are we going to do that?\n",
    "\n",
    "## 7) Find the mbids (again)\n",
    "\n",
    "If we have a musician with an mbid of `AAA-AAA-AAA`, we get their info from a url like `http://ws.audioscrobbler.com/blahblah/?api_key=12345&mbid=AAA-AAA-AAA`.\n",
    "\n",
    "|artist|url|\n",
    "|---|---|\n",
    "|`AAA-AAA-AAA`|`http://ws.audioscrobbler.com/blahblah/?api_key=12345&mbid=AAA-AAA-AAA`|\n",
    "|`BBB-BBB-BBB`|`http://ws.audioscrobbler.com/blahblah/?api_key=12345&mbid=BBB-BBB-BBB`|\n",
    "|`CCC-CCC-CCC`|`http://ws.audioscrobbler.com/blahblah/?api_key=12345&mbid=CCC-CCC-CCC`|\n",
    "\n",
    "I guess we should start trying to get a list of all of the mbids.\n",
    "\n",
    "**Loop through your artists, and print out the `mbid` for each artist**\n",
    "\n",
    "- *Tip: You probably need to request your artist search result data again, because you probably saved over `data` with your other API request. Maybe call it `artist_data` this time?*\n",
    "- *Tip: If the artist does NOT have an `mbid`, don't print it.*"
   ]
  },
  {
   "cell_type": "code",
   "execution_count": 18,
   "metadata": {},
   "outputs": [
    {
     "output_type": "stream",
     "name": "stdout",
     "text": [
      "6e0c7c0e-cba5-4c2c-a652-38f71ef5785d\nac9a487a-d9d2-4f27-bb23-0f4686488345\nc9cd225b-4883-428e-82c2-73e0b6282fb6\n5f1adfe1-4d07-4141-b181-79e5d379d539\n1550f952-c91b-40d7-9b4d-d26a259ee932\n3268f062-6e76-480a-a384-e1dd2a276afb\nbc1b5c95-e6d6-46b5-957a-5e8908b02c1e\n1b72331b-3a97-4981-a81c-eeee9c275d28\na95384b1-6aec-468c-ae0d-8c6daf87c4c2\n243c6f61-d83b-4459-bebd-5899df0da111\nad29ae1c-2eda-4071-9dc8-31910e7e546c\n8ba17cf6-bec2-4ae4-9820-b1cda47adc08\n1967c6ce-95a4-48f0-8ac7-abe637524aee\n3ad4f6ec-253f-4050-8849-ca26266edfb8\n9b5ce0c1-1bc0-4ea2-a8d3-f5ee7af9eda8\n981d39fc-bd00-4cc6-ac67-6410f8b89098\nbc21df5c-3d79-479b-b638-8ddb5ecea403\na31becdf-7b33-4409-9eb1-3f74bd72997c\nb89f4c50-72f5-48ce-b08c-a643b191b24f\n50ad1cde-1536-4268-a55f-e47a7b8280ab\n9803d120-716d-45ba-9eb7-9a120813f908\n9acaf734-b380-4c48-954c-a2cf1d7990a9\n"
     ]
    }
   ],
   "source": [
    "lil_artists\n",
    "for artists in lil_artists:\n",
    "    if artists['mbid'] != \"\":\n",
    "        print(f\"{artists['mbid']}\")"
   ]
  },
  {
   "cell_type": "code",
   "execution_count": null,
   "metadata": {},
   "outputs": [],
   "source": []
  },
  {
   "cell_type": "markdown",
   "metadata": {},
   "source": [
    "Your results should look something like\n",
    "\n",
    "```\n",
    "6e0c7c0e-cba5-4c2c-a652-38f71ef5785d\n",
    "1550f952-c91b-40d7-9b4d-d26a259ee932\n",
    "1b72331b-3a97-4981-a81c-eeee9c275d28\n",
    "5f1adfe1-4d07-4141-b181-79e5d379d539\n",
    "a95384b1-6aec-468c-ae0d-8c6daf87c4c2\n",
    "bc1b5c95-e6d6-46b5-957a-5e8908b02c1e\n",
    "243c6f61-d83b-4459-bebd-5899df0da111\n",
    "```"
   ]
  },
  {
   "cell_type": "markdown",
   "metadata": {},
   "source": [
    "## 8) Saving those mbids\n",
    "\n",
    "For those `mbid` values, instead of printing them out, save them to a new list of just mbid values. Call this list `mbids`.\n",
    "\n",
    "- *Tip: Use `.append` to add a single element onto a list*"
   ]
  },
  {
   "cell_type": "code",
   "execution_count": 19,
   "metadata": {},
   "outputs": [],
   "source": [
    "mbids =[]\n",
    "for artists in lil_artists:\n",
    "    if artists['mbid'] != \"\":\n",
    "        mbids.append(artists['mbid'])"
   ]
  },
  {
   "cell_type": "code",
   "execution_count": 20,
   "metadata": {},
   "outputs": [
    {
     "output_type": "execute_result",
     "data": {
      "text/plain": [
       "['6e0c7c0e-cba5-4c2c-a652-38f71ef5785d',\n",
       " 'ac9a487a-d9d2-4f27-bb23-0f4686488345',\n",
       " 'c9cd225b-4883-428e-82c2-73e0b6282fb6',\n",
       " '5f1adfe1-4d07-4141-b181-79e5d379d539',\n",
       " '1550f952-c91b-40d7-9b4d-d26a259ee932',\n",
       " '3268f062-6e76-480a-a384-e1dd2a276afb',\n",
       " 'bc1b5c95-e6d6-46b5-957a-5e8908b02c1e',\n",
       " '1b72331b-3a97-4981-a81c-eeee9c275d28',\n",
       " 'a95384b1-6aec-468c-ae0d-8c6daf87c4c2',\n",
       " '243c6f61-d83b-4459-bebd-5899df0da111',\n",
       " 'ad29ae1c-2eda-4071-9dc8-31910e7e546c',\n",
       " '8ba17cf6-bec2-4ae4-9820-b1cda47adc08',\n",
       " '1967c6ce-95a4-48f0-8ac7-abe637524aee',\n",
       " '3ad4f6ec-253f-4050-8849-ca26266edfb8',\n",
       " '9b5ce0c1-1bc0-4ea2-a8d3-f5ee7af9eda8',\n",
       " '981d39fc-bd00-4cc6-ac67-6410f8b89098',\n",
       " 'bc21df5c-3d79-479b-b638-8ddb5ecea403',\n",
       " 'a31becdf-7b33-4409-9eb1-3f74bd72997c',\n",
       " 'b89f4c50-72f5-48ce-b08c-a643b191b24f',\n",
       " '50ad1cde-1536-4268-a55f-e47a7b8280ab',\n",
       " '9803d120-716d-45ba-9eb7-9a120813f908',\n",
       " '9acaf734-b380-4c48-954c-a2cf1d7990a9']"
      ]
     },
     "metadata": {},
     "execution_count": 20
    }
   ],
   "source": [
    "mbids"
   ]
  },
  {
   "cell_type": "markdown",
   "metadata": {},
   "source": [
    "Your results should look something like\n",
    "\n",
    "```['6e0c7c0e-cba5-4c2c-a652-38f71ef5785d',\n",
    " '1550f952-c91b-40d7-9b4d-d26a259ee932',\n",
    " '1b72331b-3a97-4981-a81c-eeee9c275d28',\n",
    " '5f1adfe1-4d07-4141-b181-79e5d379d539',\n",
    " 'a95384b1-6aec-468c-ae0d-8c6daf87c4c2',\n",
    " 'bc1b5c95-e6d6-46b5-957a-5e8908b02c1e',\n",
    " '243c6f61-d83b-4459-bebd-5899df0da111',\n",
    " '8ba17cf6-bec2-4ae4-9820-b1cda47adc08',\n",
    " 'ad29ae1c-2eda-4071-9dc8-31910e7e546c',\n",
    " '3268f062-6e76-480a-a384-e1dd2a276afb',\n",
    " '3ad4f6ec-253f-4050-8849-ca26266edfb8',\n",
    " '9b5ce0c1-1bc0-4ea2-a8d3-f5ee7af9eda8',\n",
    " '981d39fc-bd00-4cc6-ac67-6410f8b89098',\n",
    " 'b89f4c50-72f5-48ce-b08c-a643b191b24f',\n",
    " 'bc21df5c-3d79-479b-b638-8ddb5ecea403',\n",
    " 'c9cd225b-4883-428e-82c2-73e0b6282fb6',\n",
    " '9acaf734-b380-4c48-954c-a2cf1d7990a9',\n",
    " 'd4d5ae85-700c-4a55-8a39-7f923da07ef2',\n",
    " '77fafce8-a32f-4d42-bdce-266bbf913cee',\n",
    " '50ad1cde-1536-4268-a55f-e47a7b8280ab',\n",
    " '9803d120-716d-45ba-9eb7-9a120813f908',\n",
    " 'b27560ea-2783-4a91-be45-9e8711917562',\n",
    " '194e87c9-b3fe-4fbd-82a7-8c54b4dd4c76',\n",
    " 'fd90af91-ed07-4e85-8816-26c954fe5286',\n",
    " '5652bb3e-f225-49de-9637-5aa1539b4a7c']```"
   ]
  },
  {
   "cell_type": "markdown",
   "metadata": {},
   "source": [
    "## 9) Printing our API urls\n",
    "\n",
    "To get tag data for each artist, you need to use those `mbid` values to access their artist page on the API. Loop through the mbids, displying the URL you'll need to access.\n",
    "\n",
    "- *Tip: You don't want to use a comma when printing, because commas add spaces into your text and URLs can't have that*\n",
    "- *Tip: Make sure your URL has `artist.getinfo` in it - if not, you're using the wrong endpoint.*"
   ]
  },
  {
   "cell_type": "code",
   "execution_count": 21,
   "metadata": {},
   "outputs": [
    {
     "output_type": "stream",
     "name": "stdout",
     "text": [
      "http://ws.audioscrobbler.com/2.0/?method=artist.getinfo&artist=&api_key=16f79a62e3d07d1c0b8cd0ddc4aa611e&format=json&mbid=6e0c7c0e-cba5-4c2c-a652-38f71ef5785d\nhttp://ws.audioscrobbler.com/2.0/?method=artist.getinfo&artist=&api_key=16f79a62e3d07d1c0b8cd0ddc4aa611e&format=json&mbid=ac9a487a-d9d2-4f27-bb23-0f4686488345\nhttp://ws.audioscrobbler.com/2.0/?method=artist.getinfo&artist=&api_key=16f79a62e3d07d1c0b8cd0ddc4aa611e&format=json&mbid=c9cd225b-4883-428e-82c2-73e0b6282fb6\nhttp://ws.audioscrobbler.com/2.0/?method=artist.getinfo&artist=&api_key=16f79a62e3d07d1c0b8cd0ddc4aa611e&format=json&mbid=5f1adfe1-4d07-4141-b181-79e5d379d539\nhttp://ws.audioscrobbler.com/2.0/?method=artist.getinfo&artist=&api_key=16f79a62e3d07d1c0b8cd0ddc4aa611e&format=json&mbid=1550f952-c91b-40d7-9b4d-d26a259ee932\nhttp://ws.audioscrobbler.com/2.0/?method=artist.getinfo&artist=&api_key=16f79a62e3d07d1c0b8cd0ddc4aa611e&format=json&mbid=3268f062-6e76-480a-a384-e1dd2a276afb\nhttp://ws.audioscrobbler.com/2.0/?method=artist.getinfo&artist=&api_key=16f79a62e3d07d1c0b8cd0ddc4aa611e&format=json&mbid=bc1b5c95-e6d6-46b5-957a-5e8908b02c1e\nhttp://ws.audioscrobbler.com/2.0/?method=artist.getinfo&artist=&api_key=16f79a62e3d07d1c0b8cd0ddc4aa611e&format=json&mbid=1b72331b-3a97-4981-a81c-eeee9c275d28\nhttp://ws.audioscrobbler.com/2.0/?method=artist.getinfo&artist=&api_key=16f79a62e3d07d1c0b8cd0ddc4aa611e&format=json&mbid=a95384b1-6aec-468c-ae0d-8c6daf87c4c2\nhttp://ws.audioscrobbler.com/2.0/?method=artist.getinfo&artist=&api_key=16f79a62e3d07d1c0b8cd0ddc4aa611e&format=json&mbid=243c6f61-d83b-4459-bebd-5899df0da111\nhttp://ws.audioscrobbler.com/2.0/?method=artist.getinfo&artist=&api_key=16f79a62e3d07d1c0b8cd0ddc4aa611e&format=json&mbid=ad29ae1c-2eda-4071-9dc8-31910e7e546c\nhttp://ws.audioscrobbler.com/2.0/?method=artist.getinfo&artist=&api_key=16f79a62e3d07d1c0b8cd0ddc4aa611e&format=json&mbid=8ba17cf6-bec2-4ae4-9820-b1cda47adc08\nhttp://ws.audioscrobbler.com/2.0/?method=artist.getinfo&artist=&api_key=16f79a62e3d07d1c0b8cd0ddc4aa611e&format=json&mbid=1967c6ce-95a4-48f0-8ac7-abe637524aee\nhttp://ws.audioscrobbler.com/2.0/?method=artist.getinfo&artist=&api_key=16f79a62e3d07d1c0b8cd0ddc4aa611e&format=json&mbid=3ad4f6ec-253f-4050-8849-ca26266edfb8\nhttp://ws.audioscrobbler.com/2.0/?method=artist.getinfo&artist=&api_key=16f79a62e3d07d1c0b8cd0ddc4aa611e&format=json&mbid=9b5ce0c1-1bc0-4ea2-a8d3-f5ee7af9eda8\nhttp://ws.audioscrobbler.com/2.0/?method=artist.getinfo&artist=&api_key=16f79a62e3d07d1c0b8cd0ddc4aa611e&format=json&mbid=981d39fc-bd00-4cc6-ac67-6410f8b89098\nhttp://ws.audioscrobbler.com/2.0/?method=artist.getinfo&artist=&api_key=16f79a62e3d07d1c0b8cd0ddc4aa611e&format=json&mbid=bc21df5c-3d79-479b-b638-8ddb5ecea403\nhttp://ws.audioscrobbler.com/2.0/?method=artist.getinfo&artist=&api_key=16f79a62e3d07d1c0b8cd0ddc4aa611e&format=json&mbid=a31becdf-7b33-4409-9eb1-3f74bd72997c\nhttp://ws.audioscrobbler.com/2.0/?method=artist.getinfo&artist=&api_key=16f79a62e3d07d1c0b8cd0ddc4aa611e&format=json&mbid=b89f4c50-72f5-48ce-b08c-a643b191b24f\nhttp://ws.audioscrobbler.com/2.0/?method=artist.getinfo&artist=&api_key=16f79a62e3d07d1c0b8cd0ddc4aa611e&format=json&mbid=50ad1cde-1536-4268-a55f-e47a7b8280ab\nhttp://ws.audioscrobbler.com/2.0/?method=artist.getinfo&artist=&api_key=16f79a62e3d07d1c0b8cd0ddc4aa611e&format=json&mbid=9803d120-716d-45ba-9eb7-9a120813f908\nhttp://ws.audioscrobbler.com/2.0/?method=artist.getinfo&artist=&api_key=16f79a62e3d07d1c0b8cd0ddc4aa611e&format=json&mbid=9acaf734-b380-4c48-954c-a2cf1d7990a9\n"
     ]
    }
   ],
   "source": [
    "mbids\n",
    "mbid_urls = []\n",
    "for mbid_value in mbids:\n",
    "    print(f\"http://ws.audioscrobbler.com/2.0/?method=artist.getinfo&artist=&api_key={api_key}&format=json&mbid={mbid_value}\")\n",
    "    mbid_urls.append(f\"http://ws.audioscrobbler.com/2.0/?method=artist.getinfo&artist=&api_key={api_key}&format=json&mbid={mbid_value}\")"
   ]
  },
  {
   "cell_type": "code",
   "execution_count": 22,
   "metadata": {},
   "outputs": [
    {
     "output_type": "execute_result",
     "data": {
      "text/plain": [
       "['http://ws.audioscrobbler.com/2.0/?method=artist.getinfo&artist=&api_key=16f79a62e3d07d1c0b8cd0ddc4aa611e&format=json&mbid=6e0c7c0e-cba5-4c2c-a652-38f71ef5785d',\n",
       " 'http://ws.audioscrobbler.com/2.0/?method=artist.getinfo&artist=&api_key=16f79a62e3d07d1c0b8cd0ddc4aa611e&format=json&mbid=ac9a487a-d9d2-4f27-bb23-0f4686488345',\n",
       " 'http://ws.audioscrobbler.com/2.0/?method=artist.getinfo&artist=&api_key=16f79a62e3d07d1c0b8cd0ddc4aa611e&format=json&mbid=c9cd225b-4883-428e-82c2-73e0b6282fb6',\n",
       " 'http://ws.audioscrobbler.com/2.0/?method=artist.getinfo&artist=&api_key=16f79a62e3d07d1c0b8cd0ddc4aa611e&format=json&mbid=5f1adfe1-4d07-4141-b181-79e5d379d539',\n",
       " 'http://ws.audioscrobbler.com/2.0/?method=artist.getinfo&artist=&api_key=16f79a62e3d07d1c0b8cd0ddc4aa611e&format=json&mbid=1550f952-c91b-40d7-9b4d-d26a259ee932',\n",
       " 'http://ws.audioscrobbler.com/2.0/?method=artist.getinfo&artist=&api_key=16f79a62e3d07d1c0b8cd0ddc4aa611e&format=json&mbid=3268f062-6e76-480a-a384-e1dd2a276afb',\n",
       " 'http://ws.audioscrobbler.com/2.0/?method=artist.getinfo&artist=&api_key=16f79a62e3d07d1c0b8cd0ddc4aa611e&format=json&mbid=bc1b5c95-e6d6-46b5-957a-5e8908b02c1e',\n",
       " 'http://ws.audioscrobbler.com/2.0/?method=artist.getinfo&artist=&api_key=16f79a62e3d07d1c0b8cd0ddc4aa611e&format=json&mbid=1b72331b-3a97-4981-a81c-eeee9c275d28',\n",
       " 'http://ws.audioscrobbler.com/2.0/?method=artist.getinfo&artist=&api_key=16f79a62e3d07d1c0b8cd0ddc4aa611e&format=json&mbid=a95384b1-6aec-468c-ae0d-8c6daf87c4c2',\n",
       " 'http://ws.audioscrobbler.com/2.0/?method=artist.getinfo&artist=&api_key=16f79a62e3d07d1c0b8cd0ddc4aa611e&format=json&mbid=243c6f61-d83b-4459-bebd-5899df0da111',\n",
       " 'http://ws.audioscrobbler.com/2.0/?method=artist.getinfo&artist=&api_key=16f79a62e3d07d1c0b8cd0ddc4aa611e&format=json&mbid=ad29ae1c-2eda-4071-9dc8-31910e7e546c',\n",
       " 'http://ws.audioscrobbler.com/2.0/?method=artist.getinfo&artist=&api_key=16f79a62e3d07d1c0b8cd0ddc4aa611e&format=json&mbid=8ba17cf6-bec2-4ae4-9820-b1cda47adc08',\n",
       " 'http://ws.audioscrobbler.com/2.0/?method=artist.getinfo&artist=&api_key=16f79a62e3d07d1c0b8cd0ddc4aa611e&format=json&mbid=1967c6ce-95a4-48f0-8ac7-abe637524aee',\n",
       " 'http://ws.audioscrobbler.com/2.0/?method=artist.getinfo&artist=&api_key=16f79a62e3d07d1c0b8cd0ddc4aa611e&format=json&mbid=3ad4f6ec-253f-4050-8849-ca26266edfb8',\n",
       " 'http://ws.audioscrobbler.com/2.0/?method=artist.getinfo&artist=&api_key=16f79a62e3d07d1c0b8cd0ddc4aa611e&format=json&mbid=9b5ce0c1-1bc0-4ea2-a8d3-f5ee7af9eda8',\n",
       " 'http://ws.audioscrobbler.com/2.0/?method=artist.getinfo&artist=&api_key=16f79a62e3d07d1c0b8cd0ddc4aa611e&format=json&mbid=981d39fc-bd00-4cc6-ac67-6410f8b89098',\n",
       " 'http://ws.audioscrobbler.com/2.0/?method=artist.getinfo&artist=&api_key=16f79a62e3d07d1c0b8cd0ddc4aa611e&format=json&mbid=bc21df5c-3d79-479b-b638-8ddb5ecea403',\n",
       " 'http://ws.audioscrobbler.com/2.0/?method=artist.getinfo&artist=&api_key=16f79a62e3d07d1c0b8cd0ddc4aa611e&format=json&mbid=a31becdf-7b33-4409-9eb1-3f74bd72997c',\n",
       " 'http://ws.audioscrobbler.com/2.0/?method=artist.getinfo&artist=&api_key=16f79a62e3d07d1c0b8cd0ddc4aa611e&format=json&mbid=b89f4c50-72f5-48ce-b08c-a643b191b24f',\n",
       " 'http://ws.audioscrobbler.com/2.0/?method=artist.getinfo&artist=&api_key=16f79a62e3d07d1c0b8cd0ddc4aa611e&format=json&mbid=50ad1cde-1536-4268-a55f-e47a7b8280ab',\n",
       " 'http://ws.audioscrobbler.com/2.0/?method=artist.getinfo&artist=&api_key=16f79a62e3d07d1c0b8cd0ddc4aa611e&format=json&mbid=9803d120-716d-45ba-9eb7-9a120813f908',\n",
       " 'http://ws.audioscrobbler.com/2.0/?method=artist.getinfo&artist=&api_key=16f79a62e3d07d1c0b8cd0ddc4aa611e&format=json&mbid=9acaf734-b380-4c48-954c-a2cf1d7990a9']"
      ]
     },
     "metadata": {},
     "execution_count": 22
    }
   ],
   "source": [
    "mbid_urls"
   ]
  },
  {
   "cell_type": "markdown",
   "metadata": {},
   "source": [
    "Your results should look something like\n",
    "\n",
    "```http://ws.audioscrobbler.com/2.0/?method=artist.getinfo&api_key=XXXXX&format=json&mbid=6e0c7c0e-cba5-4c2c-a652-38f71ef5785d\n",
    "http://ws.audioscrobbler.com/2.0/?method=artist.getinfo&api_key=XXXXX&format=json&mbid=1550f952-c91b-40d7-9b4d-d26a259ee932\n",
    "http://ws.audioscrobbler.com/2.0/?method=artist.getinfo&api_key=XXXXX&format=json&mbid=1b72331b-3a97-4981-a81c-eeee9c275d28\n",
    "http://ws.audioscrobbler.com/2.0/?method=artist.getinfo&api_key=XXXXX&format=json&mbid=5f1adfe1-4d07-4141-b181-79e5d379d539\n",
    "http://ws.audioscrobbler.com/2.0/?method=artist.getinfo&api_key=XXXXX&format=json&mbid=a95384b1-6aec-468c-ae0d-8c6daf87c4c2\n",
    "http://ws.audioscrobbler.com/2.0/?method=artist.getinfo&api_key=XXXXX&format=json&mbid=bc1b5c95-e6d6-46b5-957a-5e8908b02c1e```"
   ]
  },
  {
   "cell_type": "markdown",
   "metadata": {},
   "source": [
    "## OKAY HERE IS A LITTLE INFORMATION: Using our API urls\n",
    "\n",
    "This time instead of just *displaying* the URL, we're going to *request and process it*. **But first I'm going to teach you something.**\n",
    "\n",
    "When you're dealing with an API, you don't want to make a million requests, have bad code, and then need to do those million requests again. It's usually best to test your code with a few of the results first.\n",
    "\n",
    "So, if we have a list of numbers like this:"
   ]
  },
  {
   "cell_type": "code",
   "execution_count": 23,
   "metadata": {},
   "outputs": [
    {
     "output_type": "execute_result",
     "data": {
      "text/plain": [
       "[4, 5, 6, 7]"
      ]
     },
     "metadata": {},
     "execution_count": 23
    }
   ],
   "source": [
    "numbers = [4, 5, 6, 7]\n",
    "numbers"
   ]
  },
  {
   "cell_type": "markdown",
   "metadata": {},
   "source": [
    "You can actually say to Python, **give me the first two**, and it will only give you the first two."
   ]
  },
  {
   "cell_type": "code",
   "execution_count": 24,
   "metadata": {},
   "outputs": [
    {
     "output_type": "execute_result",
     "data": {
      "text/plain": [
       "[4, 5]"
      ]
     },
     "metadata": {},
     "execution_count": 24
    }
   ],
   "source": [
    "numbers[:2]"
   ]
  },
  {
   "cell_type": "markdown",
   "metadata": {},
   "source": [
    "The is **very convenient** with loopng with APIs, because instead of trying to use all FIFTY artists, you can just say \"hey, please try this out with 2 of them\" and you don't waste time."
   ]
  },
  {
   "cell_type": "markdown",
   "metadata": {},
   "source": [
    "## 10) Using the first three `mbids`, request the API urls and print the artist's name.\n",
    "\n",
    "You built the URLs in the last question, now it's time to use them! Use `requests` etc to grab the URL and get out the artist's name.\n",
    "\n",
    "- *Tip: The code is the same as last time you got an artist's name from their info page, it's just going to be inside of a loop*\n",
    "- *Tip: USE `PRINT` TO SEE WHAT YOU ARE LOOKING AT!!!!!*"
   ]
  },
  {
   "cell_type": "code",
   "execution_count": 25,
   "metadata": {},
   "outputs": [
    {
     "output_type": "stream",
     "name": "stdout",
     "text": [
      "URL request: http://ws.audioscrobbler.com/2.0/?method=artist.getinfo&artist=&api_key=16f79a62e3d07d1c0b8cd0ddc4aa611e&format=json&mbid=6e0c7c0e-cba5-4c2c-a652-38f71ef5785d\n",
      "Artist name:Lily Allen\n",
      "URL request: http://ws.audioscrobbler.com/2.0/?method=artist.getinfo&artist=&api_key=16f79a62e3d07d1c0b8cd0ddc4aa611e&format=json&mbid=ac9a487a-d9d2-4f27-bb23-0f4686488345\n",
      "Artist name:Lil Wayne\n",
      "URL request: http://ws.audioscrobbler.com/2.0/?method=artist.getinfo&artist=&api_key=16f79a62e3d07d1c0b8cd0ddc4aa611e&format=json&mbid=c9cd225b-4883-428e-82c2-73e0b6282fb6\n",
      "Artist name:Lil Durk\n"
     ]
    }
   ],
   "source": [
    "for url_requests in mbid_urls[:3]:\n",
    "        print(f\"URL request: {url_requests}\")\n",
    "        url_request = requests.get(url_requests)\n",
    "        url_request = url_request.json()\n",
    "        mbid_url_artist = url_request['artist']\n",
    "        print(f\"Artist name:{mbid_url_artist['name']}\")"
   ]
  },
  {
   "cell_type": "markdown",
   "metadata": {},
   "source": [
    "## 11) Using the first three `mbids`, request the API urls and print the artist's name and their tags\n",
    "\n",
    "- *Tip: The code is the same as last time you got an artist's name from their info page, it's just going to be inside of a loop*\n",
    "- *Tip: It's a for loop in a for loop!*"
   ]
  },
  {
   "cell_type": "code",
   "execution_count": 26,
   "metadata": {},
   "outputs": [
    {
     "output_type": "stream",
     "name": "stdout",
     "text": [
      "URL request: http://ws.audioscrobbler.com/2.0/?method=artist.getinfo&artist=&api_key=16f79a62e3d07d1c0b8cd0ddc4aa611e&format=json&mbid=6e0c7c0e-cba5-4c2c-a652-38f71ef5785d\n",
      "Artist name:Lily Allen\n",
      "Lily Allen's Tags:\n",
      "pop\n",
      "female vocalists\n",
      "british\n",
      "britpop\n",
      "singer-songwriter\n",
      "URL request: http://ws.audioscrobbler.com/2.0/?method=artist.getinfo&artist=&api_key=16f79a62e3d07d1c0b8cd0ddc4aa611e&format=json&mbid=ac9a487a-d9d2-4f27-bb23-0f4686488345\n",
      "Artist name:Lil Wayne\n",
      "Lil Wayne's Tags:\n",
      "rap\n",
      "Hip-Hop\n",
      "hip hop\n",
      "Gangsta Rap\n",
      "Dirty South\n",
      "URL request: http://ws.audioscrobbler.com/2.0/?method=artist.getinfo&artist=&api_key=16f79a62e3d07d1c0b8cd0ddc4aa611e&format=json&mbid=c9cd225b-4883-428e-82c2-73e0b6282fb6\n",
      "Artist name:Lil Durk\n",
      "Lil Durk's Tags:\n",
      "rap\n",
      "Hip-Hop\n",
      "drill\n",
      "trap\n",
      "hip hop\n"
     ]
    }
   ],
   "source": [
    "for url_requests in mbid_urls[:3]:\n",
    "        print(f\"URL request: {url_requests}\")\n",
    "        url_request = requests.get(url_requests)\n",
    "        url_request = url_request.json()\n",
    "        mbid_url_artist = url_request['artist']\n",
    "        print(f\"Artist name:{mbid_url_artist['name']}\")\n",
    "        mbid_url_tags = mbid_url_artist['tags']['tag']\n",
    "        print(f\"{mbid_url_artist['name']}'s Tags:\")\n",
    "        for mtag in mbid_url_tags:\n",
    "            print(mtag['name'])"
   ]
  },
  {
   "cell_type": "markdown",
   "metadata": {},
   "source": [
    "## 12) Using the first ten mbids, print the artist's name and whether they're a rapper\n",
    "\n",
    "Only print their name ONCE and only print whether they are hip hop or not ONCE.\n",
    "\n",
    "- *Tip: Rap tags include hip hop, swag, crunk, rap, dirty south, and probably a bunch of other stuff! You can include as many categories as you'd like.*\n",
    "- *Tip: You can use `2 in [1, 2, 3]` to find out if `2` is in the list of `[1, 2, 3]`.*\n",
    "- *Tip: Every time you look at a new artist, you can say they are NOT a rapper. And once you find out one of their tags is hip hop or rap, then you can note that they're a rapper. Then once you're done looking at their tags, then you can say HEY this is a rapper, or HEY this is not a rapper.*"
   ]
  },
  {
   "cell_type": "code",
   "execution_count": 27,
   "metadata": {},
   "outputs": [
    {
     "output_type": "stream",
     "name": "stdout",
     "text": [
      "we found pop in Lily Allen\n",
      "we found female vocalists in Lily Allen\n",
      "we found british in Lily Allen\n",
      "we found britpop in Lily Allen\n",
      "we found singer-songwriter in Lily Allen\n",
      "Lily Allen is not hip-hop.\n",
      "we found rap in Lil Wayne\n",
      "we found hip-hop in Lil Wayne\n",
      "we found hip hop in Lil Wayne\n",
      "we found gangsta rap in Lil Wayne\n",
      "we found dirty south in Lil Wayne\n",
      "Lil Wayne is hip-hop.\n",
      "we found rap in Lil Durk\n",
      "we found hip-hop in Lil Durk\n",
      "we found drill in Lil Durk\n",
      "we found trap in Lil Durk\n",
      "we found hip hop in Lil Durk\n",
      "Lil Durk is hip-hop.\n",
      "we found hip-hop in Lil Ugly Mane\n",
      "we found memphis rap in Lil Ugly Mane\n",
      "we found gangsta rap in Lil Ugly Mane\n",
      "we found lo-fi in Lil Ugly Mane\n",
      "we found trill shit in Lil Ugly Mane\n",
      "Lil Ugly Mane is hip-hop.\n",
      "we found based in Lil B\n",
      "we found hip-hop in Lil B\n",
      "we found swag in Lil B\n",
      "we found real recognize real and this nigga the realest in Lil B\n",
      "we found rap in Lil B\n",
      "Lil B is hip-hop.\n",
      "we found hip-hop in Lil Dicky\n",
      "we found rap in Lil Dicky\n",
      "we found comedy in Lil Dicky\n",
      "we found hip hop in Lil Dicky\n",
      "we found american in Lil Dicky\n",
      "Lil Dicky is hip-hop.\n",
      "we found hip-hop in Lil' Kim\n",
      "we found rap in Lil' Kim\n",
      "we found hip hop in Lil' Kim\n",
      "we found female vocalists in Lil' Kim\n",
      "we found rnb in Lil' Kim\n",
      "Lil' Kim is hip-hop.\n",
      "we found french in Lilly Wood & The Prick\n",
      "we found indie in Lilly Wood & The Prick\n",
      "we found indie pop in Lilly Wood & The Prick\n",
      "we found folk in Lilly Wood & The Prick\n",
      "we found female vocalists in Lilly Wood & The Prick\n",
      "Lilly Wood & The Prick is not hip-hop.\n",
      "we found crunk in Lil Jon\n",
      "we found hip-hop in Lil Jon\n",
      "we found rap in Lil Jon\n",
      "we found dirty south in Lil Jon\n",
      "we found hip hop in Lil Jon\n",
      "Lil Jon is hip-hop.\n",
      "we found crunk in Lil Jon & The East Side Boyz\n",
      "we found rap in Lil Jon & The East Side Boyz\n",
      "we found hip-hop in Lil Jon & The East Side Boyz\n",
      "we found dirty south in Lil Jon & The East Side Boyz\n",
      "we found hip hop in Lil Jon & The East Side Boyz\n",
      "Lil Jon & The East Side Boyz is hip-hop.\n"
     ]
    }
   ],
   "source": [
    "hip_hop_tags = [\"hip hop\",\"swag\",\"crunk\",\"rap\",\"dirty south\",\"memphis rap\",\"gangsta rap\",\"hip-hop\", \"trill shit\"]\n",
    "for url_requests in mbid_urls[:10]:\n",
    "    url_request = requests.get(url_requests)\n",
    "    url_request = url_request.json()\n",
    "    artist_name = url_request['artist']['name']\n",
    "    mbid_url_artist = url_request['artist']\n",
    "    mbid_url_tags = mbid_url_artist['tags']['tag']\n",
    "    is_hiphop = False\n",
    "    for mtag in mbid_url_tags:\n",
    "        tag_name = mtag['name']\n",
    "        tag_name = tag_name.lower()\n",
    "        print(\"we found\",tag_name,'in',artist_name)\n",
    "        if tag_name in hip_hop_tags:\n",
    "            is_hiphop = True\n",
    "    if is_hiphop:\n",
    "        print(artist_name, \"is hip-hop.\")\n",
    "    else:\n",
    "        print(artist_name, \"is not hip-hop.\")\n",
    "    #print(f\"{mbid_url_artist['name']} : {artist_tag}\")"
   ]
  },
  {
   "cell_type": "code",
   "execution_count": 28,
   "metadata": {},
   "outputs": [
    {
     "output_type": "stream",
     "name": "stdout",
     "text": [
      "Lily Allen is not hip-hop.\n",
      "Lil Wayne is hip-hop.\n",
      "Lil Durk is hip-hop.\n",
      "Lil Ugly Mane is hip-hop.\n",
      "Lil B is hip-hop.\n",
      "Lil Dicky is hip-hop.\n",
      "Lil' Kim is hip-hop.\n",
      "Lilly Wood & The Prick is not hip-hop.\n",
      "Lil Jon is hip-hop.\n",
      "Lil Jon & The East Side Boyz is hip-hop.\n"
     ]
    }
   ],
   "source": [
    "hip_hop_tags = [\"hip hop\",\"swag\",\"crunk\",\"rap\",\"dirty south\",\"memphis rap\",\"gangsta rap\",\"hip-hop\", \"trill shit\"]\n",
    "for url_requests in mbid_urls[:10]:\n",
    "    url_request = requests.get(url_requests)\n",
    "    url_request = url_request.json()\n",
    "    artist_name = url_request['artist']['name']\n",
    "    mbid_url_artist = url_request['artist']\n",
    "    mbid_url_tags = mbid_url_artist['tags']['tag']\n",
    "    is_hiphop = False\n",
    "    for mtag in mbid_url_tags:\n",
    "        tag_name = mtag['name']\n",
    "        tag_name = tag_name.lower()\n",
    "        if tag_name in hip_hop_tags:\n",
    "            is_hiphop = True\n",
    "    if is_hiphop:\n",
    "        print(artist_name, \"is hip-hop.\")\n",
    "    else:\n",
    "        print(artist_name, \"is not hip-hop.\")\n",
    "    #print(f\"{mbid_url_artist['name']} : {artist_tag}\")"
   ]
  },
  {
   "cell_type": "markdown",
   "metadata": {},
   "source": [
    "Your results might look something like\n",
    "\n",
    "```ARTIST: Lily Allen\n",
    "NO hip hop\n",
    "ARTIST: Lil B\n",
    "YES hip hop\n",
    "ARTIST: Lilly Wood & The Prick\n",
    "NO hip hop\n",
    "ARTIST: Lil Ugly Mane\n",
    "YES hip hop\n",
    "ARTIST: Lil Jon\n",
    "YES hip hop\n",
    "ARTIST: Lil' Kim\n",
    "YES hip hop\n",
    "ARTIST: Lil Jon & The East Side Boyz\n",
    "YES hip hop\n",
    "```"
   ]
  },
  {
   "cell_type": "markdown",
   "metadata": {
    "collapsed": true
   },
   "source": [
    "## 13) What percent of \"lil\" results are rappers?"
   ]
  },
  {
   "cell_type": "code",
   "execution_count": 33,
   "metadata": {},
   "outputs": [
    {
     "output_type": "stream",
     "name": "stdout",
     "text": [
      "Lily Allen is not hip-hop.\n",
      "Lil Wayne is hip-hop.\n",
      "Lil Durk is hip-hop.\n",
      "Lil Ugly Mane is hip-hop.\n",
      "Lil B is hip-hop.\n",
      "Lil Dicky is hip-hop.\n",
      "Lil' Kim is hip-hop.\n",
      "Lilly Wood & The Prick is not hip-hop.\n",
      "Lil Jon is hip-hop.\n",
      "Lil Jon & The East Side Boyz is hip-hop.\n",
      "80.0% of artists in this request are tagged as hiphop\n"
     ]
    }
   ],
   "source": [
    "hip_hop_tags = [\"hip hop\",\"swag\",\"crunk\",\"rap\",\"dirty south\",\"memphis rap\",\"gangsta rap\",\"hip-hop\", \"trill shit\"]\n",
    "count_is_hiphop = 0\n",
    "for url_requests in mbid_urls[:10]:\n",
    "    url_request = requests.get(url_requests)\n",
    "    url_request = url_request.json()\n",
    "    artist_name = url_request['artist']['name']\n",
    "    mbid_url_artist = url_request['artist']\n",
    "    mbid_url_tags = mbid_url_artist['tags']['tag']\n",
    "    is_hiphop = False\n",
    "    for mtag in mbid_url_tags:\n",
    "        tag_name = mtag['name']\n",
    "        tag_name = tag_name.lower()\n",
    "        if tag_name in hip_hop_tags:\n",
    "            is_hiphop = True\n",
    "    if is_hiphop:\n",
    "        print(artist_name, \"is hip-hop.\")\n",
    "        count_is_hiphop = count_is_hiphop + 1\n",
    "    else:\n",
    "        print(artist_name, \"is not hip-hop.\")\n",
    "print(f\"{((count_is_hiphop)/len(mbid_url_artist))*100}% of artists in this request are tagged as hiphop\")"
   ]
  },
  {
   "cell_type": "markdown",
   "metadata": {},
   "source": [
    "## 14) Seriously you are all-powerful now."
   ]
  }
 ],
 "metadata": {
  "kernelspec": {
   "name": "python3",
   "display_name": "Python 3.9.5 64-bit"
  },
  "language_info": {
   "codemirror_mode": {
    "name": "ipython",
    "version": 3
   },
   "file_extension": ".py",
   "mimetype": "text/x-python",
   "name": "python",
   "nbconvert_exporter": "python",
   "pygments_lexer": "ipython3",
   "version": "3.9.5"
  },
  "interpreter": {
   "hash": "ef19576ba81a241d3fe40416f7fab88758350e775c5cf205b69256e3a84aa984"
  }
 },
 "nbformat": 4,
 "nbformat_minor": 1
}